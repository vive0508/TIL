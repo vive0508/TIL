{
 "cells": [
  {
   "cell_type": "markdown",
   "id": "e7d9ec47",
   "metadata": {},
   "source": [
    "## Pandas"
   ]
  },
  {
   "cell_type": "markdown",
   "id": "bbf7b305",
   "metadata": {},
   "source": [
    "## 1. 데이터프레임 샘플 생성"
   ]
  },
  {
   "cell_type": "markdown",
   "id": "a9dba934",
   "metadata": {},
   "source": [
    "#### 1.1 라이브러리 임포트"
   ]
  },
  {
   "cell_type": "code",
   "execution_count": 62,
   "id": "191146fc",
   "metadata": {},
   "outputs": [],
   "source": [
    "import pandas as pd\n",
    "import numpy as np"
   ]
  },
  {
   "cell_type": "markdown",
   "id": "7f718e0d",
   "metadata": {},
   "source": [
    "#### 1.2 난수생성"
   ]
  },
  {
   "cell_type": "code",
   "execution_count": 63,
   "id": "23119339",
   "metadata": {},
   "outputs": [
    {
     "data": {
      "text/plain": [
       "array([[-1.20509962,  3.08285705, -1.65038886,  0.25568368],\n",
       "       [-0.97799439,  0.77000224,  0.49909525, -0.6580701 ],\n",
       "       [-0.09835748, -1.87752422, -0.56370239, -1.58255819],\n",
       "       [-2.06883094, -0.54982246, -1.16854501,  0.5014808 ],\n",
       "       [-1.03085806, -0.6971445 ,  0.33693029,  1.55306431],\n",
       "       [-0.40787239, -0.18177718,  0.83802887, -1.80403408]])"
      ]
     },
     "execution_count": 63,
     "metadata": {},
     "output_type": "execute_result"
    }
   ],
   "source": [
    "# np.random.randint : 균일 분포의 정수 난수 1개 생성\n",
    "# np.random.rand : 0부터 1사이의 균일 분포에서 난수 matrix array 생성\n",
    "# np.random.randn : 가우시안 표준 정규 분포에서 난수 matrix array 생성\n",
    "\n",
    "data = np.random.randn(6, 4)\n",
    "data"
   ]
  },
  {
   "cell_type": "markdown",
   "id": "1518398d",
   "metadata": {},
   "source": [
    "#### 1.3 날짜 생성"
   ]
  },
  {
   "cell_type": "code",
   "execution_count": 64,
   "id": "9fd365fa",
   "metadata": {},
   "outputs": [
    {
     "data": {
      "text/plain": [
       "DatetimeIndex(['2022-01-01', '2022-01-02', '2022-01-03', '2022-01-04',\n",
       "               '2022-01-05', '2022-01-06'],\n",
       "              dtype='datetime64[ns]', freq='D')"
      ]
     },
     "execution_count": 64,
     "metadata": {},
     "output_type": "execute_result"
    }
   ],
   "source": [
    "dates = pd.date_range(\"20220101\", periods=6)\n",
    "dates"
   ]
  },
  {
   "cell_type": "code",
   "execution_count": 65,
   "id": "509c3ef4",
   "metadata": {},
   "outputs": [
    {
     "data": {
      "text/plain": [
       "pandas.core.indexes.datetimes.DatetimeIndex"
      ]
     },
     "execution_count": 65,
     "metadata": {},
     "output_type": "execute_result"
    }
   ],
   "source": [
    "type(dates)"
   ]
  },
  {
   "cell_type": "markdown",
   "id": "458a69d8",
   "metadata": {},
   "source": [
    "#### 1.4 데이터 프레임 생성\n",
    "- 데이터 : 난수  행렬(6x4)\n",
    "- 인덱스 : 날짜 (6X1)\n",
    "- 칼럼 : A,B,C,D (1X4)"
   ]
  },
  {
   "cell_type": "code",
   "execution_count": 67,
   "id": "4f334690",
   "metadata": {},
   "outputs": [
    {
     "data": {
      "text/html": [
       "<div>\n",
       "<style scoped>\n",
       "    .dataframe tbody tr th:only-of-type {\n",
       "        vertical-align: middle;\n",
       "    }\n",
       "\n",
       "    .dataframe tbody tr th {\n",
       "        vertical-align: top;\n",
       "    }\n",
       "\n",
       "    .dataframe thead th {\n",
       "        text-align: right;\n",
       "    }\n",
       "</style>\n",
       "<table border=\"1\" class=\"dataframe\">\n",
       "  <thead>\n",
       "    <tr style=\"text-align: right;\">\n",
       "      <th></th>\n",
       "      <th>A</th>\n",
       "      <th>B</th>\n",
       "      <th>C</th>\n",
       "      <th>D</th>\n",
       "    </tr>\n",
       "  </thead>\n",
       "  <tbody>\n",
       "    <tr>\n",
       "      <th>2022-01-01</th>\n",
       "      <td>-1.205100</td>\n",
       "      <td>3.082857</td>\n",
       "      <td>-1.650389</td>\n",
       "      <td>0.255684</td>\n",
       "    </tr>\n",
       "    <tr>\n",
       "      <th>2022-01-02</th>\n",
       "      <td>-0.977994</td>\n",
       "      <td>0.770002</td>\n",
       "      <td>0.499095</td>\n",
       "      <td>-0.658070</td>\n",
       "    </tr>\n",
       "    <tr>\n",
       "      <th>2022-01-03</th>\n",
       "      <td>-0.098357</td>\n",
       "      <td>-1.877524</td>\n",
       "      <td>-0.563702</td>\n",
       "      <td>-1.582558</td>\n",
       "    </tr>\n",
       "    <tr>\n",
       "      <th>2022-01-04</th>\n",
       "      <td>-2.068831</td>\n",
       "      <td>-0.549822</td>\n",
       "      <td>-1.168545</td>\n",
       "      <td>0.501481</td>\n",
       "    </tr>\n",
       "    <tr>\n",
       "      <th>2022-01-05</th>\n",
       "      <td>-1.030858</td>\n",
       "      <td>-0.697145</td>\n",
       "      <td>0.336930</td>\n",
       "      <td>1.553064</td>\n",
       "    </tr>\n",
       "    <tr>\n",
       "      <th>2022-01-06</th>\n",
       "      <td>-0.407872</td>\n",
       "      <td>-0.181777</td>\n",
       "      <td>0.838029</td>\n",
       "      <td>-1.804034</td>\n",
       "    </tr>\n",
       "  </tbody>\n",
       "</table>\n",
       "</div>"
      ],
      "text/plain": [
       "                   A         B         C         D\n",
       "2022-01-01 -1.205100  3.082857 -1.650389  0.255684\n",
       "2022-01-02 -0.977994  0.770002  0.499095 -0.658070\n",
       "2022-01-03 -0.098357 -1.877524 -0.563702 -1.582558\n",
       "2022-01-04 -2.068831 -0.549822 -1.168545  0.501481\n",
       "2022-01-05 -1.030858 -0.697145  0.336930  1.553064\n",
       "2022-01-06 -0.407872 -0.181777  0.838029 -1.804034"
      ]
     },
     "execution_count": 67,
     "metadata": {},
     "output_type": "execute_result"
    }
   ],
   "source": [
    "df = pd.DataFrame(data, index=dates, columns=['A','B','C','D'])\n",
    "df"
   ]
  },
  {
   "cell_type": "markdown",
   "id": "d0f13ea0",
   "metadata": {},
   "source": [
    "---"
   ]
  },
  {
   "cell_type": "markdown",
   "id": "58df7007",
   "metadata": {},
   "source": [
    "## 2.2 데이터프레임 정보 탐색\n",
    "- df.head()\n",
    "- df.tail()\n",
    "- df.info\n",
    "- df.describe()"
   ]
  },
  {
   "cell_type": "code",
   "execution_count": 68,
   "id": "2f4acf99",
   "metadata": {},
   "outputs": [
    {
     "data": {
      "text/html": [
       "<div>\n",
       "<style scoped>\n",
       "    .dataframe tbody tr th:only-of-type {\n",
       "        vertical-align: middle;\n",
       "    }\n",
       "\n",
       "    .dataframe tbody tr th {\n",
       "        vertical-align: top;\n",
       "    }\n",
       "\n",
       "    .dataframe thead th {\n",
       "        text-align: right;\n",
       "    }\n",
       "</style>\n",
       "<table border=\"1\" class=\"dataframe\">\n",
       "  <thead>\n",
       "    <tr style=\"text-align: right;\">\n",
       "      <th></th>\n",
       "      <th>A</th>\n",
       "      <th>B</th>\n",
       "      <th>C</th>\n",
       "      <th>D</th>\n",
       "    </tr>\n",
       "  </thead>\n",
       "  <tbody>\n",
       "    <tr>\n",
       "      <th>2022-01-01</th>\n",
       "      <td>-1.205100</td>\n",
       "      <td>3.082857</td>\n",
       "      <td>-1.650389</td>\n",
       "      <td>0.255684</td>\n",
       "    </tr>\n",
       "    <tr>\n",
       "      <th>2022-01-02</th>\n",
       "      <td>-0.977994</td>\n",
       "      <td>0.770002</td>\n",
       "      <td>0.499095</td>\n",
       "      <td>-0.658070</td>\n",
       "    </tr>\n",
       "    <tr>\n",
       "      <th>2022-01-03</th>\n",
       "      <td>-0.098357</td>\n",
       "      <td>-1.877524</td>\n",
       "      <td>-0.563702</td>\n",
       "      <td>-1.582558</td>\n",
       "    </tr>\n",
       "    <tr>\n",
       "      <th>2022-01-04</th>\n",
       "      <td>-2.068831</td>\n",
       "      <td>-0.549822</td>\n",
       "      <td>-1.168545</td>\n",
       "      <td>0.501481</td>\n",
       "    </tr>\n",
       "    <tr>\n",
       "      <th>2022-01-05</th>\n",
       "      <td>-1.030858</td>\n",
       "      <td>-0.697145</td>\n",
       "      <td>0.336930</td>\n",
       "      <td>1.553064</td>\n",
       "    </tr>\n",
       "  </tbody>\n",
       "</table>\n",
       "</div>"
      ],
      "text/plain": [
       "                   A         B         C         D\n",
       "2022-01-01 -1.205100  3.082857 -1.650389  0.255684\n",
       "2022-01-02 -0.977994  0.770002  0.499095 -0.658070\n",
       "2022-01-03 -0.098357 -1.877524 -0.563702 -1.582558\n",
       "2022-01-04 -2.068831 -0.549822 -1.168545  0.501481\n",
       "2022-01-05 -1.030858 -0.697145  0.336930  1.553064"
      ]
     },
     "execution_count": 68,
     "metadata": {},
     "output_type": "execute_result"
    }
   ],
   "source": [
    "df.head()"
   ]
  },
  {
   "cell_type": "code",
   "execution_count": 69,
   "id": "d2f4def8",
   "metadata": {},
   "outputs": [
    {
     "data": {
      "text/html": [
       "<div>\n",
       "<style scoped>\n",
       "    .dataframe tbody tr th:only-of-type {\n",
       "        vertical-align: middle;\n",
       "    }\n",
       "\n",
       "    .dataframe tbody tr th {\n",
       "        vertical-align: top;\n",
       "    }\n",
       "\n",
       "    .dataframe thead th {\n",
       "        text-align: right;\n",
       "    }\n",
       "</style>\n",
       "<table border=\"1\" class=\"dataframe\">\n",
       "  <thead>\n",
       "    <tr style=\"text-align: right;\">\n",
       "      <th></th>\n",
       "      <th>A</th>\n",
       "      <th>B</th>\n",
       "      <th>C</th>\n",
       "      <th>D</th>\n",
       "    </tr>\n",
       "  </thead>\n",
       "  <tbody>\n",
       "    <tr>\n",
       "      <th>2022-01-02</th>\n",
       "      <td>-0.977994</td>\n",
       "      <td>0.770002</td>\n",
       "      <td>0.499095</td>\n",
       "      <td>-0.658070</td>\n",
       "    </tr>\n",
       "    <tr>\n",
       "      <th>2022-01-03</th>\n",
       "      <td>-0.098357</td>\n",
       "      <td>-1.877524</td>\n",
       "      <td>-0.563702</td>\n",
       "      <td>-1.582558</td>\n",
       "    </tr>\n",
       "    <tr>\n",
       "      <th>2022-01-04</th>\n",
       "      <td>-2.068831</td>\n",
       "      <td>-0.549822</td>\n",
       "      <td>-1.168545</td>\n",
       "      <td>0.501481</td>\n",
       "    </tr>\n",
       "    <tr>\n",
       "      <th>2022-01-05</th>\n",
       "      <td>-1.030858</td>\n",
       "      <td>-0.697145</td>\n",
       "      <td>0.336930</td>\n",
       "      <td>1.553064</td>\n",
       "    </tr>\n",
       "    <tr>\n",
       "      <th>2022-01-06</th>\n",
       "      <td>-0.407872</td>\n",
       "      <td>-0.181777</td>\n",
       "      <td>0.838029</td>\n",
       "      <td>-1.804034</td>\n",
       "    </tr>\n",
       "  </tbody>\n",
       "</table>\n",
       "</div>"
      ],
      "text/plain": [
       "                   A         B         C         D\n",
       "2022-01-02 -0.977994  0.770002  0.499095 -0.658070\n",
       "2022-01-03 -0.098357 -1.877524 -0.563702 -1.582558\n",
       "2022-01-04 -2.068831 -0.549822 -1.168545  0.501481\n",
       "2022-01-05 -1.030858 -0.697145  0.336930  1.553064\n",
       "2022-01-06 -0.407872 -0.181777  0.838029 -1.804034"
      ]
     },
     "execution_count": 69,
     "metadata": {},
     "output_type": "execute_result"
    }
   ],
   "source": [
    "df.tail()"
   ]
  },
  {
   "cell_type": "code",
   "execution_count": 70,
   "id": "290a349f",
   "metadata": {},
   "outputs": [
    {
     "name": "stdout",
     "output_type": "stream",
     "text": [
      "<class 'pandas.core.frame.DataFrame'>\n",
      "DatetimeIndex: 6 entries, 2022-01-01 to 2022-01-06\n",
      "Freq: D\n",
      "Data columns (total 4 columns):\n",
      " #   Column  Non-Null Count  Dtype  \n",
      "---  ------  --------------  -----  \n",
      " 0   A       6 non-null      float64\n",
      " 1   B       6 non-null      float64\n",
      " 2   C       6 non-null      float64\n",
      " 3   D       6 non-null      float64\n",
      "dtypes: float64(4)\n",
      "memory usage: 240.0 bytes\n"
     ]
    }
   ],
   "source": [
    "# 데이터프레임의 기본 정보\n",
    "df.info()"
   ]
  },
  {
   "cell_type": "code",
   "execution_count": 71,
   "id": "33140b3b",
   "metadata": {},
   "outputs": [
    {
     "data": {
      "text/html": [
       "<div>\n",
       "<style scoped>\n",
       "    .dataframe tbody tr th:only-of-type {\n",
       "        vertical-align: middle;\n",
       "    }\n",
       "\n",
       "    .dataframe tbody tr th {\n",
       "        vertical-align: top;\n",
       "    }\n",
       "\n",
       "    .dataframe thead th {\n",
       "        text-align: right;\n",
       "    }\n",
       "</style>\n",
       "<table border=\"1\" class=\"dataframe\">\n",
       "  <thead>\n",
       "    <tr style=\"text-align: right;\">\n",
       "      <th></th>\n",
       "      <th>A</th>\n",
       "      <th>B</th>\n",
       "      <th>C</th>\n",
       "      <th>D</th>\n",
       "    </tr>\n",
       "  </thead>\n",
       "  <tbody>\n",
       "    <tr>\n",
       "      <th>count</th>\n",
       "      <td>6.000000</td>\n",
       "      <td>6.000000</td>\n",
       "      <td>6.000000</td>\n",
       "      <td>6.000000</td>\n",
       "    </tr>\n",
       "    <tr>\n",
       "      <th>mean</th>\n",
       "      <td>-0.964835</td>\n",
       "      <td>0.091098</td>\n",
       "      <td>-0.284764</td>\n",
       "      <td>-0.289072</td>\n",
       "    </tr>\n",
       "    <tr>\n",
       "      <th>std</th>\n",
       "      <td>0.684406</td>\n",
       "      <td>1.696678</td>\n",
       "      <td>0.998540</td>\n",
       "      <td>1.297657</td>\n",
       "    </tr>\n",
       "    <tr>\n",
       "      <th>min</th>\n",
       "      <td>-2.068831</td>\n",
       "      <td>-1.877524</td>\n",
       "      <td>-1.650389</td>\n",
       "      <td>-1.804034</td>\n",
       "    </tr>\n",
       "    <tr>\n",
       "      <th>25%</th>\n",
       "      <td>-1.161539</td>\n",
       "      <td>-0.660314</td>\n",
       "      <td>-1.017334</td>\n",
       "      <td>-1.351436</td>\n",
       "    </tr>\n",
       "    <tr>\n",
       "      <th>50%</th>\n",
       "      <td>-1.004426</td>\n",
       "      <td>-0.365800</td>\n",
       "      <td>-0.113386</td>\n",
       "      <td>-0.201193</td>\n",
       "    </tr>\n",
       "    <tr>\n",
       "      <th>75%</th>\n",
       "      <td>-0.550403</td>\n",
       "      <td>0.532057</td>\n",
       "      <td>0.458554</td>\n",
       "      <td>0.440032</td>\n",
       "    </tr>\n",
       "    <tr>\n",
       "      <th>max</th>\n",
       "      <td>-0.098357</td>\n",
       "      <td>3.082857</td>\n",
       "      <td>0.838029</td>\n",
       "      <td>1.553064</td>\n",
       "    </tr>\n",
       "  </tbody>\n",
       "</table>\n",
       "</div>"
      ],
      "text/plain": [
       "              A         B         C         D\n",
       "count  6.000000  6.000000  6.000000  6.000000\n",
       "mean  -0.964835  0.091098 -0.284764 -0.289072\n",
       "std    0.684406  1.696678  0.998540  1.297657\n",
       "min   -2.068831 -1.877524 -1.650389 -1.804034\n",
       "25%   -1.161539 -0.660314 -1.017334 -1.351436\n",
       "50%   -1.004426 -0.365800 -0.113386 -0.201193\n",
       "75%   -0.550403  0.532057  0.458554  0.440032\n",
       "max   -0.098357  3.082857  0.838029  1.553064"
      ]
     },
     "execution_count": 71,
     "metadata": {},
     "output_type": "execute_result"
    }
   ],
   "source": [
    "# 데이터프레임의 기술통계 정보 확인\n",
    "df.describe()"
   ]
  },
  {
   "cell_type": "code",
   "execution_count": 72,
   "id": "8cf7d913",
   "metadata": {},
   "outputs": [
    {
     "data": {
      "text/plain": [
       "DatetimeIndex(['2022-01-01', '2022-01-02', '2022-01-03', '2022-01-04',\n",
       "               '2022-01-05', '2022-01-06'],\n",
       "              dtype='datetime64[ns]', freq='D')"
      ]
     },
     "execution_count": 72,
     "metadata": {},
     "output_type": "execute_result"
    }
   ],
   "source": [
    "df.index"
   ]
  },
  {
   "cell_type": "code",
   "execution_count": 73,
   "id": "f2e9ffb7",
   "metadata": {},
   "outputs": [
    {
     "data": {
      "text/plain": [
       "Index(['A', 'B', 'C', 'D'], dtype='object')"
      ]
     },
     "execution_count": 73,
     "metadata": {},
     "output_type": "execute_result"
    }
   ],
   "source": [
    "df.columns"
   ]
  },
  {
   "cell_type": "markdown",
   "id": "ba0a75b3",
   "metadata": {},
   "source": [
    "---"
   ]
  },
  {
   "cell_type": "markdown",
   "id": "47ccdeb8",
   "metadata": {},
   "source": [
    "## 2.3 데이터 선택하기"
   ]
  },
  {
   "cell_type": "code",
   "execution_count": 74,
   "id": "57ec96b3",
   "metadata": {},
   "outputs": [
    {
     "data": {
      "text/html": [
       "<div>\n",
       "<style scoped>\n",
       "    .dataframe tbody tr th:only-of-type {\n",
       "        vertical-align: middle;\n",
       "    }\n",
       "\n",
       "    .dataframe tbody tr th {\n",
       "        vertical-align: top;\n",
       "    }\n",
       "\n",
       "    .dataframe thead th {\n",
       "        text-align: right;\n",
       "    }\n",
       "</style>\n",
       "<table border=\"1\" class=\"dataframe\">\n",
       "  <thead>\n",
       "    <tr style=\"text-align: right;\">\n",
       "      <th></th>\n",
       "      <th>A</th>\n",
       "      <th>B</th>\n",
       "      <th>C</th>\n",
       "      <th>D</th>\n",
       "    </tr>\n",
       "  </thead>\n",
       "  <tbody>\n",
       "    <tr>\n",
       "      <th>2022-01-01</th>\n",
       "      <td>-1.205100</td>\n",
       "      <td>3.082857</td>\n",
       "      <td>-1.650389</td>\n",
       "      <td>0.255684</td>\n",
       "    </tr>\n",
       "    <tr>\n",
       "      <th>2022-01-02</th>\n",
       "      <td>-0.977994</td>\n",
       "      <td>0.770002</td>\n",
       "      <td>0.499095</td>\n",
       "      <td>-0.658070</td>\n",
       "    </tr>\n",
       "    <tr>\n",
       "      <th>2022-01-03</th>\n",
       "      <td>-0.098357</td>\n",
       "      <td>-1.877524</td>\n",
       "      <td>-0.563702</td>\n",
       "      <td>-1.582558</td>\n",
       "    </tr>\n",
       "    <tr>\n",
       "      <th>2022-01-04</th>\n",
       "      <td>-2.068831</td>\n",
       "      <td>-0.549822</td>\n",
       "      <td>-1.168545</td>\n",
       "      <td>0.501481</td>\n",
       "    </tr>\n",
       "    <tr>\n",
       "      <th>2022-01-05</th>\n",
       "      <td>-1.030858</td>\n",
       "      <td>-0.697145</td>\n",
       "      <td>0.336930</td>\n",
       "      <td>1.553064</td>\n",
       "    </tr>\n",
       "    <tr>\n",
       "      <th>2022-01-06</th>\n",
       "      <td>-0.407872</td>\n",
       "      <td>-0.181777</td>\n",
       "      <td>0.838029</td>\n",
       "      <td>-1.804034</td>\n",
       "    </tr>\n",
       "  </tbody>\n",
       "</table>\n",
       "</div>"
      ],
      "text/plain": [
       "                   A         B         C         D\n",
       "2022-01-01 -1.205100  3.082857 -1.650389  0.255684\n",
       "2022-01-02 -0.977994  0.770002  0.499095 -0.658070\n",
       "2022-01-03 -0.098357 -1.877524 -0.563702 -1.582558\n",
       "2022-01-04 -2.068831 -0.549822 -1.168545  0.501481\n",
       "2022-01-05 -1.030858 -0.697145  0.336930  1.553064\n",
       "2022-01-06 -0.407872 -0.181777  0.838029 -1.804034"
      ]
     },
     "execution_count": 74,
     "metadata": {},
     "output_type": "execute_result"
    }
   ],
   "source": [
    "df = pd.DataFrame(data, index=dates, columns=[\"A\", \"B\", \"C\", \"D\"]) \n",
    "df"
   ]
  },
  {
   "cell_type": "markdown",
   "id": "2285a949",
   "metadata": {},
   "source": [
    "### 2.3.1 열 선택하기"
   ]
  },
  {
   "cell_type": "code",
   "execution_count": 75,
   "id": "da6149f8",
   "metadata": {},
   "outputs": [
    {
     "data": {
      "text/plain": [
       "2022-01-01   -1.205100\n",
       "2022-01-02   -0.977994\n",
       "2022-01-03   -0.098357\n",
       "2022-01-04   -2.068831\n",
       "2022-01-05   -1.030858\n",
       "2022-01-06   -0.407872\n",
       "Freq: D, Name: A, dtype: float64"
      ]
     },
     "execution_count": 75,
     "metadata": {},
     "output_type": "execute_result"
    }
   ],
   "source": [
    "# 한 개 컬럼 선택\n",
    "df['A']"
   ]
  },
  {
   "cell_type": "code",
   "execution_count": 76,
   "id": "92f50fa5",
   "metadata": {},
   "outputs": [
    {
     "data": {
      "text/plain": [
       "2022-01-01   -1.205100\n",
       "2022-01-02   -0.977994\n",
       "2022-01-03   -0.098357\n",
       "2022-01-04   -2.068831\n",
       "2022-01-05   -1.030858\n",
       "2022-01-06   -0.407872\n",
       "Freq: D, Name: A, dtype: float64"
      ]
     },
     "execution_count": 76,
     "metadata": {},
     "output_type": "execute_result"
    }
   ],
   "source": [
    "df.A"
   ]
  },
  {
   "cell_type": "code",
   "execution_count": 77,
   "id": "3fee6236",
   "metadata": {},
   "outputs": [
    {
     "data": {
      "text/plain": [
       "pandas.core.series.Series"
      ]
     },
     "execution_count": 77,
     "metadata": {},
     "output_type": "execute_result"
    }
   ],
   "source": [
    "type(df['A'])"
   ]
  },
  {
   "cell_type": "code",
   "execution_count": 78,
   "id": "1903974e",
   "metadata": {},
   "outputs": [
    {
     "data": {
      "text/html": [
       "<div>\n",
       "<style scoped>\n",
       "    .dataframe tbody tr th:only-of-type {\n",
       "        vertical-align: middle;\n",
       "    }\n",
       "\n",
       "    .dataframe tbody tr th {\n",
       "        vertical-align: top;\n",
       "    }\n",
       "\n",
       "    .dataframe thead th {\n",
       "        text-align: right;\n",
       "    }\n",
       "</style>\n",
       "<table border=\"1\" class=\"dataframe\">\n",
       "  <thead>\n",
       "    <tr style=\"text-align: right;\">\n",
       "      <th></th>\n",
       "      <th>A</th>\n",
       "    </tr>\n",
       "  </thead>\n",
       "  <tbody>\n",
       "    <tr>\n",
       "      <th>2022-01-01</th>\n",
       "      <td>-1.205100</td>\n",
       "    </tr>\n",
       "    <tr>\n",
       "      <th>2022-01-02</th>\n",
       "      <td>-0.977994</td>\n",
       "    </tr>\n",
       "    <tr>\n",
       "      <th>2022-01-03</th>\n",
       "      <td>-0.098357</td>\n",
       "    </tr>\n",
       "    <tr>\n",
       "      <th>2022-01-04</th>\n",
       "      <td>-2.068831</td>\n",
       "    </tr>\n",
       "    <tr>\n",
       "      <th>2022-01-05</th>\n",
       "      <td>-1.030858</td>\n",
       "    </tr>\n",
       "    <tr>\n",
       "      <th>2022-01-06</th>\n",
       "      <td>-0.407872</td>\n",
       "    </tr>\n",
       "  </tbody>\n",
       "</table>\n",
       "</div>"
      ],
      "text/plain": [
       "                   A\n",
       "2022-01-01 -1.205100\n",
       "2022-01-02 -0.977994\n",
       "2022-01-03 -0.098357\n",
       "2022-01-04 -2.068831\n",
       "2022-01-05 -1.030858\n",
       "2022-01-06 -0.407872"
      ]
     },
     "execution_count": 78,
     "metadata": {},
     "output_type": "execute_result"
    }
   ],
   "source": [
    "df[['A']]"
   ]
  },
  {
   "cell_type": "code",
   "execution_count": 79,
   "id": "dcbe6d2a",
   "metadata": {},
   "outputs": [
    {
     "data": {
      "text/plain": [
       "pandas.core.frame.DataFrame"
      ]
     },
     "execution_count": 79,
     "metadata": {},
     "output_type": "execute_result"
    }
   ],
   "source": [
    "type(df[['A']])"
   ]
  },
  {
   "cell_type": "code",
   "execution_count": 80,
   "id": "bc743605",
   "metadata": {},
   "outputs": [
    {
     "ename": "KeyError",
     "evalue": "('A', 'B')",
     "output_type": "error",
     "traceback": [
      "\u001b[1;31m---------------------------------------------------------------------------\u001b[0m",
      "\u001b[1;31mKeyError\u001b[0m                                  Traceback (most recent call last)",
      "\u001b[1;32m~\\Anaconda3\\lib\\site-packages\\pandas\\core\\indexes\\base.py\u001b[0m in \u001b[0;36mget_loc\u001b[1;34m(self, key, method, tolerance)\u001b[0m\n\u001b[0;32m   3079\u001b[0m             \u001b[1;32mtry\u001b[0m\u001b[1;33m:\u001b[0m\u001b[1;33m\u001b[0m\u001b[1;33m\u001b[0m\u001b[0m\n\u001b[1;32m-> 3080\u001b[1;33m                 \u001b[1;32mreturn\u001b[0m \u001b[0mself\u001b[0m\u001b[1;33m.\u001b[0m\u001b[0m_engine\u001b[0m\u001b[1;33m.\u001b[0m\u001b[0mget_loc\u001b[0m\u001b[1;33m(\u001b[0m\u001b[0mcasted_key\u001b[0m\u001b[1;33m)\u001b[0m\u001b[1;33m\u001b[0m\u001b[1;33m\u001b[0m\u001b[0m\n\u001b[0m\u001b[0;32m   3081\u001b[0m             \u001b[1;32mexcept\u001b[0m \u001b[0mKeyError\u001b[0m \u001b[1;32mas\u001b[0m \u001b[0merr\u001b[0m\u001b[1;33m:\u001b[0m\u001b[1;33m\u001b[0m\u001b[1;33m\u001b[0m\u001b[0m\n",
      "\u001b[1;32mpandas\\_libs\\index.pyx\u001b[0m in \u001b[0;36mpandas._libs.index.IndexEngine.get_loc\u001b[1;34m()\u001b[0m\n",
      "\u001b[1;32mpandas\\_libs\\index.pyx\u001b[0m in \u001b[0;36mpandas._libs.index.IndexEngine.get_loc\u001b[1;34m()\u001b[0m\n",
      "\u001b[1;32mpandas\\_libs\\hashtable_class_helper.pxi\u001b[0m in \u001b[0;36mpandas._libs.hashtable.PyObjectHashTable.get_item\u001b[1;34m()\u001b[0m\n",
      "\u001b[1;32mpandas\\_libs\\hashtable_class_helper.pxi\u001b[0m in \u001b[0;36mpandas._libs.hashtable.PyObjectHashTable.get_item\u001b[1;34m()\u001b[0m\n",
      "\u001b[1;31mKeyError\u001b[0m: ('A', 'B')",
      "\nThe above exception was the direct cause of the following exception:\n",
      "\u001b[1;31mKeyError\u001b[0m                                  Traceback (most recent call last)",
      "\u001b[1;32m<ipython-input-80-d2da31bad4ac>\u001b[0m in \u001b[0;36m<module>\u001b[1;34m\u001b[0m\n\u001b[1;32m----> 1\u001b[1;33m \u001b[0mdf\u001b[0m\u001b[1;33m[\u001b[0m\u001b[1;34m'A'\u001b[0m\u001b[1;33m,\u001b[0m\u001b[1;34m'B'\u001b[0m\u001b[1;33m]\u001b[0m\u001b[1;33m\u001b[0m\u001b[1;33m\u001b[0m\u001b[0m\n\u001b[0m",
      "\u001b[1;32m~\\Anaconda3\\lib\\site-packages\\pandas\\core\\frame.py\u001b[0m in \u001b[0;36m__getitem__\u001b[1;34m(self, key)\u001b[0m\n\u001b[0;32m   3022\u001b[0m             \u001b[1;32mif\u001b[0m \u001b[0mself\u001b[0m\u001b[1;33m.\u001b[0m\u001b[0mcolumns\u001b[0m\u001b[1;33m.\u001b[0m\u001b[0mnlevels\u001b[0m \u001b[1;33m>\u001b[0m \u001b[1;36m1\u001b[0m\u001b[1;33m:\u001b[0m\u001b[1;33m\u001b[0m\u001b[1;33m\u001b[0m\u001b[0m\n\u001b[0;32m   3023\u001b[0m                 \u001b[1;32mreturn\u001b[0m \u001b[0mself\u001b[0m\u001b[1;33m.\u001b[0m\u001b[0m_getitem_multilevel\u001b[0m\u001b[1;33m(\u001b[0m\u001b[0mkey\u001b[0m\u001b[1;33m)\u001b[0m\u001b[1;33m\u001b[0m\u001b[1;33m\u001b[0m\u001b[0m\n\u001b[1;32m-> 3024\u001b[1;33m             \u001b[0mindexer\u001b[0m \u001b[1;33m=\u001b[0m \u001b[0mself\u001b[0m\u001b[1;33m.\u001b[0m\u001b[0mcolumns\u001b[0m\u001b[1;33m.\u001b[0m\u001b[0mget_loc\u001b[0m\u001b[1;33m(\u001b[0m\u001b[0mkey\u001b[0m\u001b[1;33m)\u001b[0m\u001b[1;33m\u001b[0m\u001b[1;33m\u001b[0m\u001b[0m\n\u001b[0m\u001b[0;32m   3025\u001b[0m             \u001b[1;32mif\u001b[0m \u001b[0mis_integer\u001b[0m\u001b[1;33m(\u001b[0m\u001b[0mindexer\u001b[0m\u001b[1;33m)\u001b[0m\u001b[1;33m:\u001b[0m\u001b[1;33m\u001b[0m\u001b[1;33m\u001b[0m\u001b[0m\n\u001b[0;32m   3026\u001b[0m                 \u001b[0mindexer\u001b[0m \u001b[1;33m=\u001b[0m \u001b[1;33m[\u001b[0m\u001b[0mindexer\u001b[0m\u001b[1;33m]\u001b[0m\u001b[1;33m\u001b[0m\u001b[1;33m\u001b[0m\u001b[0m\n",
      "\u001b[1;32m~\\Anaconda3\\lib\\site-packages\\pandas\\core\\indexes\\base.py\u001b[0m in \u001b[0;36mget_loc\u001b[1;34m(self, key, method, tolerance)\u001b[0m\n\u001b[0;32m   3080\u001b[0m                 \u001b[1;32mreturn\u001b[0m \u001b[0mself\u001b[0m\u001b[1;33m.\u001b[0m\u001b[0m_engine\u001b[0m\u001b[1;33m.\u001b[0m\u001b[0mget_loc\u001b[0m\u001b[1;33m(\u001b[0m\u001b[0mcasted_key\u001b[0m\u001b[1;33m)\u001b[0m\u001b[1;33m\u001b[0m\u001b[1;33m\u001b[0m\u001b[0m\n\u001b[0;32m   3081\u001b[0m             \u001b[1;32mexcept\u001b[0m \u001b[0mKeyError\u001b[0m \u001b[1;32mas\u001b[0m \u001b[0merr\u001b[0m\u001b[1;33m:\u001b[0m\u001b[1;33m\u001b[0m\u001b[1;33m\u001b[0m\u001b[0m\n\u001b[1;32m-> 3082\u001b[1;33m                 \u001b[1;32mraise\u001b[0m \u001b[0mKeyError\u001b[0m\u001b[1;33m(\u001b[0m\u001b[0mkey\u001b[0m\u001b[1;33m)\u001b[0m \u001b[1;32mfrom\u001b[0m \u001b[0merr\u001b[0m\u001b[1;33m\u001b[0m\u001b[1;33m\u001b[0m\u001b[0m\n\u001b[0m\u001b[0;32m   3083\u001b[0m \u001b[1;33m\u001b[0m\u001b[0m\n\u001b[0;32m   3084\u001b[0m         \u001b[1;32mif\u001b[0m \u001b[0mtolerance\u001b[0m \u001b[1;32mis\u001b[0m \u001b[1;32mnot\u001b[0m \u001b[1;32mNone\u001b[0m\u001b[1;33m:\u001b[0m\u001b[1;33m\u001b[0m\u001b[1;33m\u001b[0m\u001b[0m\n",
      "\u001b[1;31mKeyError\u001b[0m: ('A', 'B')"
     ]
    }
   ],
   "source": [
    "df['A','B']"
   ]
  },
  {
   "cell_type": "code",
   "execution_count": 81,
   "id": "ab1b34f8",
   "metadata": {},
   "outputs": [
    {
     "data": {
      "text/html": [
       "<div>\n",
       "<style scoped>\n",
       "    .dataframe tbody tr th:only-of-type {\n",
       "        vertical-align: middle;\n",
       "    }\n",
       "\n",
       "    .dataframe tbody tr th {\n",
       "        vertical-align: top;\n",
       "    }\n",
       "\n",
       "    .dataframe thead th {\n",
       "        text-align: right;\n",
       "    }\n",
       "</style>\n",
       "<table border=\"1\" class=\"dataframe\">\n",
       "  <thead>\n",
       "    <tr style=\"text-align: right;\">\n",
       "      <th></th>\n",
       "      <th>A</th>\n",
       "      <th>B</th>\n",
       "    </tr>\n",
       "  </thead>\n",
       "  <tbody>\n",
       "    <tr>\n",
       "      <th>2022-01-01</th>\n",
       "      <td>-1.205100</td>\n",
       "      <td>3.082857</td>\n",
       "    </tr>\n",
       "    <tr>\n",
       "      <th>2022-01-02</th>\n",
       "      <td>-0.977994</td>\n",
       "      <td>0.770002</td>\n",
       "    </tr>\n",
       "    <tr>\n",
       "      <th>2022-01-03</th>\n",
       "      <td>-0.098357</td>\n",
       "      <td>-1.877524</td>\n",
       "    </tr>\n",
       "    <tr>\n",
       "      <th>2022-01-04</th>\n",
       "      <td>-2.068831</td>\n",
       "      <td>-0.549822</td>\n",
       "    </tr>\n",
       "    <tr>\n",
       "      <th>2022-01-05</th>\n",
       "      <td>-1.030858</td>\n",
       "      <td>-0.697145</td>\n",
       "    </tr>\n",
       "    <tr>\n",
       "      <th>2022-01-06</th>\n",
       "      <td>-0.407872</td>\n",
       "      <td>-0.181777</td>\n",
       "    </tr>\n",
       "  </tbody>\n",
       "</table>\n",
       "</div>"
      ],
      "text/plain": [
       "                   A         B\n",
       "2022-01-01 -1.205100  3.082857\n",
       "2022-01-02 -0.977994  0.770002\n",
       "2022-01-03 -0.098357 -1.877524\n",
       "2022-01-04 -2.068831 -0.549822\n",
       "2022-01-05 -1.030858 -0.697145\n",
       "2022-01-06 -0.407872 -0.181777"
      ]
     },
     "execution_count": 81,
     "metadata": {},
     "output_type": "execute_result"
    }
   ],
   "source": [
    "df[['A','B']]"
   ]
  },
  {
   "cell_type": "markdown",
   "id": "e6f1f4f7",
   "metadata": {},
   "source": [
    "### 2.3.2 행 선택하기"
   ]
  },
  {
   "cell_type": "code",
   "execution_count": 82,
   "id": "bbe7ad15",
   "metadata": {},
   "outputs": [
    {
     "data": {
      "text/plain": [
       "A   -1.205100\n",
       "B    3.082857\n",
       "C   -1.650389\n",
       "D    0.255684\n",
       "Name: 2022-01-01 00:00:00, dtype: float64"
      ]
     },
     "execution_count": 82,
     "metadata": {},
     "output_type": "execute_result"
    }
   ],
   "source": [
    "df.loc['20220101']"
   ]
  },
  {
   "cell_type": "markdown",
   "id": "4cd33796",
   "metadata": {},
   "source": [
    "### 2.3.3 offset index\n",
    "- [n:m] : n부터 m-1 까지 \n",
    "- 인덱스나 컬럼의 이름으로 slice 하는 경우는 끝을 포함한다"
   ]
  },
  {
   "cell_type": "markdown",
   "id": "a2e45f98",
   "metadata": {},
   "source": [
    "#### 2.3.3.1 case1 `df[ : ]`"
   ]
  },
  {
   "cell_type": "code",
   "execution_count": 84,
   "id": "3fb84a74",
   "metadata": {},
   "outputs": [
    {
     "data": {
      "text/html": [
       "<div>\n",
       "<style scoped>\n",
       "    .dataframe tbody tr th:only-of-type {\n",
       "        vertical-align: middle;\n",
       "    }\n",
       "\n",
       "    .dataframe tbody tr th {\n",
       "        vertical-align: top;\n",
       "    }\n",
       "\n",
       "    .dataframe thead th {\n",
       "        text-align: right;\n",
       "    }\n",
       "</style>\n",
       "<table border=\"1\" class=\"dataframe\">\n",
       "  <thead>\n",
       "    <tr style=\"text-align: right;\">\n",
       "      <th></th>\n",
       "      <th>A</th>\n",
       "      <th>B</th>\n",
       "      <th>C</th>\n",
       "      <th>D</th>\n",
       "    </tr>\n",
       "  </thead>\n",
       "  <tbody>\n",
       "    <tr>\n",
       "      <th>2022-01-01</th>\n",
       "      <td>-1.205100</td>\n",
       "      <td>3.082857</td>\n",
       "      <td>-1.650389</td>\n",
       "      <td>0.255684</td>\n",
       "    </tr>\n",
       "    <tr>\n",
       "      <th>2022-01-02</th>\n",
       "      <td>-0.977994</td>\n",
       "      <td>0.770002</td>\n",
       "      <td>0.499095</td>\n",
       "      <td>-0.658070</td>\n",
       "    </tr>\n",
       "    <tr>\n",
       "      <th>2022-01-03</th>\n",
       "      <td>-0.098357</td>\n",
       "      <td>-1.877524</td>\n",
       "      <td>-0.563702</td>\n",
       "      <td>-1.582558</td>\n",
       "    </tr>\n",
       "    <tr>\n",
       "      <th>2022-01-04</th>\n",
       "      <td>-2.068831</td>\n",
       "      <td>-0.549822</td>\n",
       "      <td>-1.168545</td>\n",
       "      <td>0.501481</td>\n",
       "    </tr>\n",
       "    <tr>\n",
       "      <th>2022-01-05</th>\n",
       "      <td>-1.030858</td>\n",
       "      <td>-0.697145</td>\n",
       "      <td>0.336930</td>\n",
       "      <td>1.553064</td>\n",
       "    </tr>\n",
       "    <tr>\n",
       "      <th>2022-01-06</th>\n",
       "      <td>-0.407872</td>\n",
       "      <td>-0.181777</td>\n",
       "      <td>0.838029</td>\n",
       "      <td>-1.804034</td>\n",
       "    </tr>\n",
       "  </tbody>\n",
       "</table>\n",
       "</div>"
      ],
      "text/plain": [
       "                   A         B         C         D\n",
       "2022-01-01 -1.205100  3.082857 -1.650389  0.255684\n",
       "2022-01-02 -0.977994  0.770002  0.499095 -0.658070\n",
       "2022-01-03 -0.098357 -1.877524 -0.563702 -1.582558\n",
       "2022-01-04 -2.068831 -0.549822 -1.168545  0.501481\n",
       "2022-01-05 -1.030858 -0.697145  0.336930  1.553064\n",
       "2022-01-06 -0.407872 -0.181777  0.838029 -1.804034"
      ]
     },
     "execution_count": 84,
     "metadata": {},
     "output_type": "execute_result"
    }
   ],
   "source": [
    "df[:]"
   ]
  },
  {
   "cell_type": "code",
   "execution_count": 86,
   "id": "b63d80bc",
   "metadata": {},
   "outputs": [
    {
     "data": {
      "text/html": [
       "<div>\n",
       "<style scoped>\n",
       "    .dataframe tbody tr th:only-of-type {\n",
       "        vertical-align: middle;\n",
       "    }\n",
       "\n",
       "    .dataframe tbody tr th {\n",
       "        vertical-align: top;\n",
       "    }\n",
       "\n",
       "    .dataframe thead th {\n",
       "        text-align: right;\n",
       "    }\n",
       "</style>\n",
       "<table border=\"1\" class=\"dataframe\">\n",
       "  <thead>\n",
       "    <tr style=\"text-align: right;\">\n",
       "      <th></th>\n",
       "      <th>A</th>\n",
       "      <th>B</th>\n",
       "      <th>C</th>\n",
       "      <th>D</th>\n",
       "    </tr>\n",
       "  </thead>\n",
       "  <tbody>\n",
       "    <tr>\n",
       "      <th>2022-01-01</th>\n",
       "      <td>-1.205100</td>\n",
       "      <td>3.082857</td>\n",
       "      <td>-1.650389</td>\n",
       "      <td>0.255684</td>\n",
       "    </tr>\n",
       "    <tr>\n",
       "      <th>2022-01-02</th>\n",
       "      <td>-0.977994</td>\n",
       "      <td>0.770002</td>\n",
       "      <td>0.499095</td>\n",
       "      <td>-0.658070</td>\n",
       "    </tr>\n",
       "    <tr>\n",
       "      <th>2022-01-03</th>\n",
       "      <td>-0.098357</td>\n",
       "      <td>-1.877524</td>\n",
       "      <td>-0.563702</td>\n",
       "      <td>-1.582558</td>\n",
       "    </tr>\n",
       "  </tbody>\n",
       "</table>\n",
       "</div>"
      ],
      "text/plain": [
       "                   A         B         C         D\n",
       "2022-01-01 -1.205100  3.082857 -1.650389  0.255684\n",
       "2022-01-02 -0.977994  0.770002  0.499095 -0.658070\n",
       "2022-01-03 -0.098357 -1.877524 -0.563702 -1.582558"
      ]
     },
     "execution_count": 86,
     "metadata": {},
     "output_type": "execute_result"
    }
   ],
   "source": [
    "df[0:3]"
   ]
  },
  {
   "cell_type": "code",
   "execution_count": 88,
   "id": "90598c44",
   "metadata": {},
   "outputs": [
    {
     "data": {
      "text/html": [
       "<div>\n",
       "<style scoped>\n",
       "    .dataframe tbody tr th:only-of-type {\n",
       "        vertical-align: middle;\n",
       "    }\n",
       "\n",
       "    .dataframe tbody tr th {\n",
       "        vertical-align: top;\n",
       "    }\n",
       "\n",
       "    .dataframe thead th {\n",
       "        text-align: right;\n",
       "    }\n",
       "</style>\n",
       "<table border=\"1\" class=\"dataframe\">\n",
       "  <thead>\n",
       "    <tr style=\"text-align: right;\">\n",
       "      <th></th>\n",
       "      <th>A</th>\n",
       "      <th>B</th>\n",
       "      <th>C</th>\n",
       "      <th>D</th>\n",
       "    </tr>\n",
       "  </thead>\n",
       "  <tbody>\n",
       "    <tr>\n",
       "      <th>2022-01-01</th>\n",
       "      <td>-1.205100</td>\n",
       "      <td>3.082857</td>\n",
       "      <td>-1.650389</td>\n",
       "      <td>0.255684</td>\n",
       "    </tr>\n",
       "    <tr>\n",
       "      <th>2022-01-02</th>\n",
       "      <td>-0.977994</td>\n",
       "      <td>0.770002</td>\n",
       "      <td>0.499095</td>\n",
       "      <td>-0.658070</td>\n",
       "    </tr>\n",
       "    <tr>\n",
       "      <th>2022-01-03</th>\n",
       "      <td>-0.098357</td>\n",
       "      <td>-1.877524</td>\n",
       "      <td>-0.563702</td>\n",
       "      <td>-1.582558</td>\n",
       "    </tr>\n",
       "    <tr>\n",
       "      <th>2022-01-04</th>\n",
       "      <td>-2.068831</td>\n",
       "      <td>-0.549822</td>\n",
       "      <td>-1.168545</td>\n",
       "      <td>0.501481</td>\n",
       "    </tr>\n",
       "  </tbody>\n",
       "</table>\n",
       "</div>"
      ],
      "text/plain": [
       "                   A         B         C         D\n",
       "2022-01-01 -1.205100  3.082857 -1.650389  0.255684\n",
       "2022-01-02 -0.977994  0.770002  0.499095 -0.658070\n",
       "2022-01-03 -0.098357 -1.877524 -0.563702 -1.582558\n",
       "2022-01-04 -2.068831 -0.549822 -1.168545  0.501481"
      ]
     },
     "execution_count": 88,
     "metadata": {},
     "output_type": "execute_result"
    }
   ],
   "source": [
    "df[\"20220101\":\"20220104\"]"
   ]
  },
  {
   "cell_type": "markdown",
   "id": "0946cd4e",
   "metadata": {},
   "source": [
    "#### 2.3.3.1 case2 `df.loc[]`"
   ]
  },
  {
   "cell_type": "code",
   "execution_count": 90,
   "id": "b6d81a88",
   "metadata": {},
   "outputs": [
    {
     "data": {
      "text/html": [
       "<div>\n",
       "<style scoped>\n",
       "    .dataframe tbody tr th:only-of-type {\n",
       "        vertical-align: middle;\n",
       "    }\n",
       "\n",
       "    .dataframe tbody tr th {\n",
       "        vertical-align: top;\n",
       "    }\n",
       "\n",
       "    .dataframe thead th {\n",
       "        text-align: right;\n",
       "    }\n",
       "</style>\n",
       "<table border=\"1\" class=\"dataframe\">\n",
       "  <thead>\n",
       "    <tr style=\"text-align: right;\">\n",
       "      <th></th>\n",
       "      <th>A</th>\n",
       "      <th>B</th>\n",
       "      <th>C</th>\n",
       "      <th>D</th>\n",
       "    </tr>\n",
       "  </thead>\n",
       "  <tbody>\n",
       "    <tr>\n",
       "      <th>2022-01-01</th>\n",
       "      <td>-1.205100</td>\n",
       "      <td>3.082857</td>\n",
       "      <td>-1.650389</td>\n",
       "      <td>0.255684</td>\n",
       "    </tr>\n",
       "    <tr>\n",
       "      <th>2022-01-02</th>\n",
       "      <td>-0.977994</td>\n",
       "      <td>0.770002</td>\n",
       "      <td>0.499095</td>\n",
       "      <td>-0.658070</td>\n",
       "    </tr>\n",
       "    <tr>\n",
       "      <th>2022-01-03</th>\n",
       "      <td>-0.098357</td>\n",
       "      <td>-1.877524</td>\n",
       "      <td>-0.563702</td>\n",
       "      <td>-1.582558</td>\n",
       "    </tr>\n",
       "    <tr>\n",
       "      <th>2022-01-04</th>\n",
       "      <td>-2.068831</td>\n",
       "      <td>-0.549822</td>\n",
       "      <td>-1.168545</td>\n",
       "      <td>0.501481</td>\n",
       "    </tr>\n",
       "    <tr>\n",
       "      <th>2022-01-05</th>\n",
       "      <td>-1.030858</td>\n",
       "      <td>-0.697145</td>\n",
       "      <td>0.336930</td>\n",
       "      <td>1.553064</td>\n",
       "    </tr>\n",
       "    <tr>\n",
       "      <th>2022-01-06</th>\n",
       "      <td>-0.407872</td>\n",
       "      <td>-0.181777</td>\n",
       "      <td>0.838029</td>\n",
       "      <td>-1.804034</td>\n",
       "    </tr>\n",
       "  </tbody>\n",
       "</table>\n",
       "</div>"
      ],
      "text/plain": [
       "                   A         B         C         D\n",
       "2022-01-01 -1.205100  3.082857 -1.650389  0.255684\n",
       "2022-01-02 -0.977994  0.770002  0.499095 -0.658070\n",
       "2022-01-03 -0.098357 -1.877524 -0.563702 -1.582558\n",
       "2022-01-04 -2.068831 -0.549822 -1.168545  0.501481\n",
       "2022-01-05 -1.030858 -0.697145  0.336930  1.553064\n",
       "2022-01-06 -0.407872 -0.181777  0.838029 -1.804034"
      ]
     },
     "execution_count": 90,
     "metadata": {},
     "output_type": "execute_result"
    }
   ],
   "source": [
    "df.loc[:,:]"
   ]
  },
  {
   "cell_type": "code",
   "execution_count": 92,
   "id": "14c578a1",
   "metadata": {},
   "outputs": [
    {
     "data": {
      "text/html": [
       "<div>\n",
       "<style scoped>\n",
       "    .dataframe tbody tr th:only-of-type {\n",
       "        vertical-align: middle;\n",
       "    }\n",
       "\n",
       "    .dataframe tbody tr th {\n",
       "        vertical-align: top;\n",
       "    }\n",
       "\n",
       "    .dataframe thead th {\n",
       "        text-align: right;\n",
       "    }\n",
       "</style>\n",
       "<table border=\"1\" class=\"dataframe\">\n",
       "  <thead>\n",
       "    <tr style=\"text-align: right;\">\n",
       "      <th></th>\n",
       "      <th>B</th>\n",
       "      <th>C</th>\n",
       "      <th>D</th>\n",
       "    </tr>\n",
       "  </thead>\n",
       "  <tbody>\n",
       "    <tr>\n",
       "      <th>2022-01-03</th>\n",
       "      <td>-1.877524</td>\n",
       "      <td>-0.563702</td>\n",
       "      <td>-1.582558</td>\n",
       "    </tr>\n",
       "    <tr>\n",
       "      <th>2022-01-04</th>\n",
       "      <td>-0.549822</td>\n",
       "      <td>-1.168545</td>\n",
       "      <td>0.501481</td>\n",
       "    </tr>\n",
       "    <tr>\n",
       "      <th>2022-01-05</th>\n",
       "      <td>-0.697145</td>\n",
       "      <td>0.336930</td>\n",
       "      <td>1.553064</td>\n",
       "    </tr>\n",
       "    <tr>\n",
       "      <th>2022-01-06</th>\n",
       "      <td>-0.181777</td>\n",
       "      <td>0.838029</td>\n",
       "      <td>-1.804034</td>\n",
       "    </tr>\n",
       "  </tbody>\n",
       "</table>\n",
       "</div>"
      ],
      "text/plain": [
       "                   B         C         D\n",
       "2022-01-03 -1.877524 -0.563702 -1.582558\n",
       "2022-01-04 -0.549822 -1.168545  0.501481\n",
       "2022-01-05 -0.697145  0.336930  1.553064\n",
       "2022-01-06 -0.181777  0.838029 -1.804034"
      ]
     },
     "execution_count": 92,
     "metadata": {},
     "output_type": "execute_result"
    }
   ],
   "source": [
    "df.loc['20220103':'20220106', 'B':'D']"
   ]
  },
  {
   "cell_type": "code",
   "execution_count": 93,
   "id": "66e157cb",
   "metadata": {},
   "outputs": [
    {
     "data": {
      "text/html": [
       "<div>\n",
       "<style scoped>\n",
       "    .dataframe tbody tr th:only-of-type {\n",
       "        vertical-align: middle;\n",
       "    }\n",
       "\n",
       "    .dataframe tbody tr th {\n",
       "        vertical-align: top;\n",
       "    }\n",
       "\n",
       "    .dataframe thead th {\n",
       "        text-align: right;\n",
       "    }\n",
       "</style>\n",
       "<table border=\"1\" class=\"dataframe\">\n",
       "  <thead>\n",
       "    <tr style=\"text-align: right;\">\n",
       "      <th></th>\n",
       "      <th>B</th>\n",
       "      <th>D</th>\n",
       "    </tr>\n",
       "  </thead>\n",
       "  <tbody>\n",
       "    <tr>\n",
       "      <th>2022-01-03</th>\n",
       "      <td>-1.877524</td>\n",
       "      <td>-1.582558</td>\n",
       "    </tr>\n",
       "    <tr>\n",
       "      <th>2022-01-04</th>\n",
       "      <td>-0.549822</td>\n",
       "      <td>0.501481</td>\n",
       "    </tr>\n",
       "    <tr>\n",
       "      <th>2022-01-05</th>\n",
       "      <td>-0.697145</td>\n",
       "      <td>1.553064</td>\n",
       "    </tr>\n",
       "    <tr>\n",
       "      <th>2022-01-06</th>\n",
       "      <td>-0.181777</td>\n",
       "      <td>-1.804034</td>\n",
       "    </tr>\n",
       "  </tbody>\n",
       "</table>\n",
       "</div>"
      ],
      "text/plain": [
       "                   B         D\n",
       "2022-01-03 -1.877524 -1.582558\n",
       "2022-01-04 -0.549822  0.501481\n",
       "2022-01-05 -0.697145  1.553064\n",
       "2022-01-06 -0.181777 -1.804034"
      ]
     },
     "execution_count": 93,
     "metadata": {},
     "output_type": "execute_result"
    }
   ],
   "source": [
    "df.loc['20220103':'20220106', ['B','D']]"
   ]
  },
  {
   "cell_type": "code",
   "execution_count": 94,
   "id": "d3c44c99",
   "metadata": {},
   "outputs": [
    {
     "data": {
      "text/html": [
       "<div>\n",
       "<style scoped>\n",
       "    .dataframe tbody tr th:only-of-type {\n",
       "        vertical-align: middle;\n",
       "    }\n",
       "\n",
       "    .dataframe tbody tr th {\n",
       "        vertical-align: top;\n",
       "    }\n",
       "\n",
       "    .dataframe thead th {\n",
       "        text-align: right;\n",
       "    }\n",
       "</style>\n",
       "<table border=\"1\" class=\"dataframe\">\n",
       "  <thead>\n",
       "    <tr style=\"text-align: right;\">\n",
       "      <th></th>\n",
       "      <th>B</th>\n",
       "      <th>C</th>\n",
       "      <th>D</th>\n",
       "    </tr>\n",
       "  </thead>\n",
       "  <tbody>\n",
       "    <tr>\n",
       "      <th>2022-01-03</th>\n",
       "      <td>-1.877524</td>\n",
       "      <td>-0.563702</td>\n",
       "      <td>-1.582558</td>\n",
       "    </tr>\n",
       "    <tr>\n",
       "      <th>2022-01-06</th>\n",
       "      <td>-0.181777</td>\n",
       "      <td>0.838029</td>\n",
       "      <td>-1.804034</td>\n",
       "    </tr>\n",
       "  </tbody>\n",
       "</table>\n",
       "</div>"
      ],
      "text/plain": [
       "                   B         C         D\n",
       "2022-01-03 -1.877524 -0.563702 -1.582558\n",
       "2022-01-06 -0.181777  0.838029 -1.804034"
      ]
     },
     "execution_count": 94,
     "metadata": {},
     "output_type": "execute_result"
    }
   ],
   "source": [
    "df.loc[['20220103','20220106'], 'B':'D']"
   ]
  },
  {
   "cell_type": "code",
   "execution_count": 95,
   "id": "073e71fe",
   "metadata": {},
   "outputs": [
    {
     "data": {
      "text/html": [
       "<div>\n",
       "<style scoped>\n",
       "    .dataframe tbody tr th:only-of-type {\n",
       "        vertical-align: middle;\n",
       "    }\n",
       "\n",
       "    .dataframe tbody tr th {\n",
       "        vertical-align: top;\n",
       "    }\n",
       "\n",
       "    .dataframe thead th {\n",
       "        text-align: right;\n",
       "    }\n",
       "</style>\n",
       "<table border=\"1\" class=\"dataframe\">\n",
       "  <thead>\n",
       "    <tr style=\"text-align: right;\">\n",
       "      <th></th>\n",
       "      <th>B</th>\n",
       "      <th>D</th>\n",
       "    </tr>\n",
       "  </thead>\n",
       "  <tbody>\n",
       "    <tr>\n",
       "      <th>2022-01-03</th>\n",
       "      <td>-1.877524</td>\n",
       "      <td>-1.582558</td>\n",
       "    </tr>\n",
       "    <tr>\n",
       "      <th>2022-01-06</th>\n",
       "      <td>-0.181777</td>\n",
       "      <td>-1.804034</td>\n",
       "    </tr>\n",
       "  </tbody>\n",
       "</table>\n",
       "</div>"
      ],
      "text/plain": [
       "                   B         D\n",
       "2022-01-03 -1.877524 -1.582558\n",
       "2022-01-06 -0.181777 -1.804034"
      ]
     },
     "execution_count": 95,
     "metadata": {},
     "output_type": "execute_result"
    }
   ],
   "source": [
    "df.loc[['20220103','20220106'], ['B','D']]"
   ]
  },
  {
   "cell_type": "code",
   "execution_count": 73,
   "id": "9b024576",
   "metadata": {},
   "outputs": [
    {
     "data": {
      "text/html": [
       "<div>\n",
       "<style scoped>\n",
       "    .dataframe tbody tr th:only-of-type {\n",
       "        vertical-align: middle;\n",
       "    }\n",
       "\n",
       "    .dataframe tbody tr th {\n",
       "        vertical-align: top;\n",
       "    }\n",
       "\n",
       "    .dataframe thead th {\n",
       "        text-align: right;\n",
       "    }\n",
       "</style>\n",
       "<table border=\"1\" class=\"dataframe\">\n",
       "  <thead>\n",
       "    <tr style=\"text-align: right;\">\n",
       "      <th></th>\n",
       "      <th>A</th>\n",
       "      <th>C</th>\n",
       "    </tr>\n",
       "  </thead>\n",
       "  <tbody>\n",
       "    <tr>\n",
       "      <th>2022-05-27</th>\n",
       "      <td>1.461440</td>\n",
       "      <td>-1.052474</td>\n",
       "    </tr>\n",
       "    <tr>\n",
       "      <th>2022-05-28</th>\n",
       "      <td>0.798987</td>\n",
       "      <td>1.234549</td>\n",
       "    </tr>\n",
       "    <tr>\n",
       "      <th>2022-05-29</th>\n",
       "      <td>-0.889393</td>\n",
       "      <td>-1.307586</td>\n",
       "    </tr>\n",
       "    <tr>\n",
       "      <th>2022-05-30</th>\n",
       "      <td>0.821736</td>\n",
       "      <td>0.137565</td>\n",
       "    </tr>\n",
       "  </tbody>\n",
       "</table>\n",
       "</div>"
      ],
      "text/plain": [
       "                   A         C\n",
       "2022-05-27  1.461440 -1.052474\n",
       "2022-05-28  0.798987  1.234549\n",
       "2022-05-29 -0.889393 -1.307586\n",
       "2022-05-30  0.821736  0.137565"
      ]
     },
     "execution_count": 73,
     "metadata": {},
     "output_type": "execute_result"
    }
   ],
   "source": [
    "df.loc[\"20220527\":\"20220530\", ['A','C']]"
   ]
  },
  {
   "cell_type": "code",
   "execution_count": 96,
   "id": "4c3639fb",
   "metadata": {},
   "outputs": [
    {
     "data": {
      "text/plain": [
       "-0.5637023882883242"
      ]
     },
     "execution_count": 96,
     "metadata": {},
     "output_type": "execute_result"
    }
   ],
   "source": [
    "df.loc['20220103', 'C']"
   ]
  },
  {
   "cell_type": "markdown",
   "id": "ac7b7cd8",
   "metadata": {},
   "source": [
    "### 2.3.3 특정 위치의 값 선택하기 `df.loc[]`"
   ]
  },
  {
   "cell_type": "code",
   "execution_count": 97,
   "id": "f305eb0f",
   "metadata": {},
   "outputs": [
    {
     "data": {
      "text/plain": [
       "-0.5637023882883242"
      ]
     },
     "execution_count": 97,
     "metadata": {},
     "output_type": "execute_result"
    }
   ],
   "source": [
    "df.at['20220103', 'C']"
   ]
  },
  {
   "cell_type": "markdown",
   "id": "3f8e8db9",
   "metadata": {},
   "source": [
    "### 2.3.4 인덱스 번호로 선택하기 `df.iloc[]`"
   ]
  },
  {
   "cell_type": "markdown",
   "id": "196c728d",
   "metadata": {},
   "source": [
    "- iloc : inter location \n",
    "    - 컴퓨터가 인식하는 인덱스 값으로 선택"
   ]
  },
  {
   "cell_type": "code",
   "execution_count": 98,
   "id": "6058e5dd",
   "metadata": {},
   "outputs": [
    {
     "data": {
      "text/html": [
       "<div>\n",
       "<style scoped>\n",
       "    .dataframe tbody tr th:only-of-type {\n",
       "        vertical-align: middle;\n",
       "    }\n",
       "\n",
       "    .dataframe tbody tr th {\n",
       "        vertical-align: top;\n",
       "    }\n",
       "\n",
       "    .dataframe thead th {\n",
       "        text-align: right;\n",
       "    }\n",
       "</style>\n",
       "<table border=\"1\" class=\"dataframe\">\n",
       "  <thead>\n",
       "    <tr style=\"text-align: right;\">\n",
       "      <th></th>\n",
       "      <th>A</th>\n",
       "      <th>B</th>\n",
       "      <th>C</th>\n",
       "      <th>D</th>\n",
       "    </tr>\n",
       "  </thead>\n",
       "  <tbody>\n",
       "    <tr>\n",
       "      <th>2022-01-01</th>\n",
       "      <td>-1.205100</td>\n",
       "      <td>3.082857</td>\n",
       "      <td>-1.650389</td>\n",
       "      <td>0.255684</td>\n",
       "    </tr>\n",
       "    <tr>\n",
       "      <th>2022-01-02</th>\n",
       "      <td>-0.977994</td>\n",
       "      <td>0.770002</td>\n",
       "      <td>0.499095</td>\n",
       "      <td>-0.658070</td>\n",
       "    </tr>\n",
       "    <tr>\n",
       "      <th>2022-01-03</th>\n",
       "      <td>-0.098357</td>\n",
       "      <td>-1.877524</td>\n",
       "      <td>-0.563702</td>\n",
       "      <td>-1.582558</td>\n",
       "    </tr>\n",
       "    <tr>\n",
       "      <th>2022-01-04</th>\n",
       "      <td>-2.068831</td>\n",
       "      <td>-0.549822</td>\n",
       "      <td>-1.168545</td>\n",
       "      <td>0.501481</td>\n",
       "    </tr>\n",
       "    <tr>\n",
       "      <th>2022-01-05</th>\n",
       "      <td>-1.030858</td>\n",
       "      <td>-0.697145</td>\n",
       "      <td>0.336930</td>\n",
       "      <td>1.553064</td>\n",
       "    </tr>\n",
       "    <tr>\n",
       "      <th>2022-01-06</th>\n",
       "      <td>-0.407872</td>\n",
       "      <td>-0.181777</td>\n",
       "      <td>0.838029</td>\n",
       "      <td>-1.804034</td>\n",
       "    </tr>\n",
       "  </tbody>\n",
       "</table>\n",
       "</div>"
      ],
      "text/plain": [
       "                   A         B         C         D\n",
       "2022-01-01 -1.205100  3.082857 -1.650389  0.255684\n",
       "2022-01-02 -0.977994  0.770002  0.499095 -0.658070\n",
       "2022-01-03 -0.098357 -1.877524 -0.563702 -1.582558\n",
       "2022-01-04 -2.068831 -0.549822 -1.168545  0.501481\n",
       "2022-01-05 -1.030858 -0.697145  0.336930  1.553064\n",
       "2022-01-06 -0.407872 -0.181777  0.838029 -1.804034"
      ]
     },
     "execution_count": 98,
     "metadata": {},
     "output_type": "execute_result"
    }
   ],
   "source": [
    "df"
   ]
  },
  {
   "cell_type": "code",
   "execution_count": 99,
   "id": "34824c64",
   "metadata": {},
   "outputs": [
    {
     "data": {
      "text/plain": [
       "A   -2.068831\n",
       "B   -0.549822\n",
       "C   -1.168545\n",
       "D    0.501481\n",
       "Name: 2022-01-04 00:00:00, dtype: float64"
      ]
     },
     "execution_count": 99,
     "metadata": {},
     "output_type": "execute_result"
    }
   ],
   "source": [
    "df.iloc[3]"
   ]
  },
  {
   "cell_type": "code",
   "execution_count": 103,
   "id": "76f98722",
   "metadata": {},
   "outputs": [
    {
     "data": {
      "text/plain": [
       "-0.5498224568693055"
      ]
     },
     "execution_count": 103,
     "metadata": {},
     "output_type": "execute_result"
    }
   ],
   "source": [
    "df.iloc[3,1]"
   ]
  },
  {
   "cell_type": "code",
   "execution_count": 104,
   "id": "fcd2fe2a",
   "metadata": {},
   "outputs": [
    {
     "data": {
      "text/html": [
       "<div>\n",
       "<style scoped>\n",
       "    .dataframe tbody tr th:only-of-type {\n",
       "        vertical-align: middle;\n",
       "    }\n",
       "\n",
       "    .dataframe tbody tr th {\n",
       "        vertical-align: top;\n",
       "    }\n",
       "\n",
       "    .dataframe thead th {\n",
       "        text-align: right;\n",
       "    }\n",
       "</style>\n",
       "<table border=\"1\" class=\"dataframe\">\n",
       "  <thead>\n",
       "    <tr style=\"text-align: right;\">\n",
       "      <th></th>\n",
       "      <th>A</th>\n",
       "      <th>B</th>\n",
       "      <th>C</th>\n",
       "    </tr>\n",
       "  </thead>\n",
       "  <tbody>\n",
       "    <tr>\n",
       "      <th>2022-01-01</th>\n",
       "      <td>-1.205100</td>\n",
       "      <td>3.082857</td>\n",
       "      <td>-1.650389</td>\n",
       "    </tr>\n",
       "    <tr>\n",
       "      <th>2022-01-02</th>\n",
       "      <td>-0.977994</td>\n",
       "      <td>0.770002</td>\n",
       "      <td>0.499095</td>\n",
       "    </tr>\n",
       "    <tr>\n",
       "      <th>2022-01-03</th>\n",
       "      <td>-0.098357</td>\n",
       "      <td>-1.877524</td>\n",
       "      <td>-0.563702</td>\n",
       "    </tr>\n",
       "  </tbody>\n",
       "</table>\n",
       "</div>"
      ],
      "text/plain": [
       "                   A         B         C\n",
       "2022-01-01 -1.205100  3.082857 -1.650389\n",
       "2022-01-02 -0.977994  0.770002  0.499095\n",
       "2022-01-03 -0.098357 -1.877524 -0.563702"
      ]
     },
     "execution_count": 104,
     "metadata": {},
     "output_type": "execute_result"
    }
   ],
   "source": [
    "df.iloc[0:3, 0:3]"
   ]
  },
  {
   "cell_type": "code",
   "execution_count": 105,
   "id": "51f5a860",
   "metadata": {},
   "outputs": [
    {
     "data": {
      "text/plain": [
       "A   -0.098357\n",
       "C   -0.563702\n",
       "Name: 2022-01-03 00:00:00, dtype: float64"
      ]
     },
     "execution_count": 105,
     "metadata": {},
     "output_type": "execute_result"
    }
   ],
   "source": [
    "df.iloc[2,[0,2]]"
   ]
  },
  {
   "cell_type": "code",
   "execution_count": 106,
   "id": "9cdb8d51",
   "metadata": {},
   "outputs": [
    {
     "data": {
      "text/html": [
       "<div>\n",
       "<style scoped>\n",
       "    .dataframe tbody tr th:only-of-type {\n",
       "        vertical-align: middle;\n",
       "    }\n",
       "\n",
       "    .dataframe tbody tr th {\n",
       "        vertical-align: top;\n",
       "    }\n",
       "\n",
       "    .dataframe thead th {\n",
       "        text-align: right;\n",
       "    }\n",
       "</style>\n",
       "<table border=\"1\" class=\"dataframe\">\n",
       "  <thead>\n",
       "    <tr style=\"text-align: right;\">\n",
       "      <th></th>\n",
       "      <th>A</th>\n",
       "      <th>C</th>\n",
       "    </tr>\n",
       "  </thead>\n",
       "  <tbody>\n",
       "    <tr>\n",
       "      <th>2022-01-01</th>\n",
       "      <td>-1.205100</td>\n",
       "      <td>-1.650389</td>\n",
       "    </tr>\n",
       "    <tr>\n",
       "      <th>2022-01-02</th>\n",
       "      <td>-0.977994</td>\n",
       "      <td>0.499095</td>\n",
       "    </tr>\n",
       "    <tr>\n",
       "      <th>2022-01-03</th>\n",
       "      <td>-0.098357</td>\n",
       "      <td>-0.563702</td>\n",
       "    </tr>\n",
       "    <tr>\n",
       "      <th>2022-01-04</th>\n",
       "      <td>-2.068831</td>\n",
       "      <td>-1.168545</td>\n",
       "    </tr>\n",
       "    <tr>\n",
       "      <th>2022-01-05</th>\n",
       "      <td>-1.030858</td>\n",
       "      <td>0.336930</td>\n",
       "    </tr>\n",
       "    <tr>\n",
       "      <th>2022-01-06</th>\n",
       "      <td>-0.407872</td>\n",
       "      <td>0.838029</td>\n",
       "    </tr>\n",
       "  </tbody>\n",
       "</table>\n",
       "</div>"
      ],
      "text/plain": [
       "                   A         C\n",
       "2022-01-01 -1.205100 -1.650389\n",
       "2022-01-02 -0.977994  0.499095\n",
       "2022-01-03 -0.098357 -0.563702\n",
       "2022-01-04 -2.068831 -1.168545\n",
       "2022-01-05 -1.030858  0.336930\n",
       "2022-01-06 -0.407872  0.838029"
      ]
     },
     "execution_count": 106,
     "metadata": {},
     "output_type": "execute_result"
    }
   ],
   "source": [
    "df.iloc[:,[0,2]]"
   ]
  },
  {
   "cell_type": "code",
   "execution_count": 107,
   "id": "967ae9fb",
   "metadata": {},
   "outputs": [
    {
     "data": {
      "text/plain": [
       "2022-01-01   -1.650389\n",
       "2022-01-03   -0.563702\n",
       "Freq: 2D, Name: C, dtype: float64"
      ]
     },
     "execution_count": 107,
     "metadata": {},
     "output_type": "execute_result"
    }
   ],
   "source": [
    "df.iloc[[0,2], 2]"
   ]
  },
  {
   "cell_type": "code",
   "execution_count": 108,
   "id": "8d789a06",
   "metadata": {},
   "outputs": [
    {
     "data": {
      "text/html": [
       "<div>\n",
       "<style scoped>\n",
       "    .dataframe tbody tr th:only-of-type {\n",
       "        vertical-align: middle;\n",
       "    }\n",
       "\n",
       "    .dataframe tbody tr th {\n",
       "        vertical-align: top;\n",
       "    }\n",
       "\n",
       "    .dataframe thead th {\n",
       "        text-align: right;\n",
       "    }\n",
       "</style>\n",
       "<table border=\"1\" class=\"dataframe\">\n",
       "  <thead>\n",
       "    <tr style=\"text-align: right;\">\n",
       "      <th></th>\n",
       "      <th>A</th>\n",
       "      <th>B</th>\n",
       "      <th>C</th>\n",
       "      <th>D</th>\n",
       "    </tr>\n",
       "  </thead>\n",
       "  <tbody>\n",
       "    <tr>\n",
       "      <th>2022-01-01</th>\n",
       "      <td>-1.205100</td>\n",
       "      <td>3.082857</td>\n",
       "      <td>-1.650389</td>\n",
       "      <td>0.255684</td>\n",
       "    </tr>\n",
       "    <tr>\n",
       "      <th>2022-01-03</th>\n",
       "      <td>-0.098357</td>\n",
       "      <td>-1.877524</td>\n",
       "      <td>-0.563702</td>\n",
       "      <td>-1.582558</td>\n",
       "    </tr>\n",
       "  </tbody>\n",
       "</table>\n",
       "</div>"
      ],
      "text/plain": [
       "                   A         B         C         D\n",
       "2022-01-01 -1.205100  3.082857 -1.650389  0.255684\n",
       "2022-01-03 -0.098357 -1.877524 -0.563702 -1.582558"
      ]
     },
     "execution_count": 108,
     "metadata": {},
     "output_type": "execute_result"
    }
   ],
   "source": [
    "df.iloc[[0,2], :]"
   ]
  },
  {
   "cell_type": "markdown",
   "id": "8cc16108",
   "metadata": {},
   "source": [
    "---"
   ]
  },
  {
   "cell_type": "markdown",
   "id": "98e42f71",
   "metadata": {},
   "source": [
    "## 2.4 데이터 정렬"
   ]
  },
  {
   "cell_type": "code",
   "execution_count": 111,
   "id": "bf8d3eb7",
   "metadata": {},
   "outputs": [
    {
     "data": {
      "text/html": [
       "<div>\n",
       "<style scoped>\n",
       "    .dataframe tbody tr th:only-of-type {\n",
       "        vertical-align: middle;\n",
       "    }\n",
       "\n",
       "    .dataframe tbody tr th {\n",
       "        vertical-align: top;\n",
       "    }\n",
       "\n",
       "    .dataframe thead th {\n",
       "        text-align: right;\n",
       "    }\n",
       "</style>\n",
       "<table border=\"1\" class=\"dataframe\">\n",
       "  <thead>\n",
       "    <tr style=\"text-align: right;\">\n",
       "      <th></th>\n",
       "      <th>A</th>\n",
       "      <th>B</th>\n",
       "      <th>C</th>\n",
       "      <th>D</th>\n",
       "    </tr>\n",
       "  </thead>\n",
       "  <tbody>\n",
       "    <tr>\n",
       "      <th>2022-01-04</th>\n",
       "      <td>-2.068831</td>\n",
       "      <td>-0.549822</td>\n",
       "      <td>-1.168545</td>\n",
       "      <td>0.501481</td>\n",
       "    </tr>\n",
       "    <tr>\n",
       "      <th>2022-01-01</th>\n",
       "      <td>-1.205100</td>\n",
       "      <td>3.082857</td>\n",
       "      <td>-1.650389</td>\n",
       "      <td>0.255684</td>\n",
       "    </tr>\n",
       "    <tr>\n",
       "      <th>2022-01-05</th>\n",
       "      <td>-1.030858</td>\n",
       "      <td>-0.697145</td>\n",
       "      <td>0.336930</td>\n",
       "      <td>1.553064</td>\n",
       "    </tr>\n",
       "    <tr>\n",
       "      <th>2022-01-02</th>\n",
       "      <td>-0.977994</td>\n",
       "      <td>0.770002</td>\n",
       "      <td>0.499095</td>\n",
       "      <td>-0.658070</td>\n",
       "    </tr>\n",
       "    <tr>\n",
       "      <th>2022-01-06</th>\n",
       "      <td>-0.407872</td>\n",
       "      <td>-0.181777</td>\n",
       "      <td>0.838029</td>\n",
       "      <td>-1.804034</td>\n",
       "    </tr>\n",
       "    <tr>\n",
       "      <th>2022-01-03</th>\n",
       "      <td>-0.098357</td>\n",
       "      <td>-1.877524</td>\n",
       "      <td>-0.563702</td>\n",
       "      <td>-1.582558</td>\n",
       "    </tr>\n",
       "  </tbody>\n",
       "</table>\n",
       "</div>"
      ],
      "text/plain": [
       "                   A         B         C         D\n",
       "2022-01-04 -2.068831 -0.549822 -1.168545  0.501481\n",
       "2022-01-01 -1.205100  3.082857 -1.650389  0.255684\n",
       "2022-01-05 -1.030858 -0.697145  0.336930  1.553064\n",
       "2022-01-02 -0.977994  0.770002  0.499095 -0.658070\n",
       "2022-01-06 -0.407872 -0.181777  0.838029 -1.804034\n",
       "2022-01-03 -0.098357 -1.877524 -0.563702 -1.582558"
      ]
     },
     "execution_count": 111,
     "metadata": {},
     "output_type": "execute_result"
    }
   ],
   "source": [
    "# 오름차순\n",
    "\n",
    "df.sort_values(by='A', inplace=True)\n",
    "df"
   ]
  },
  {
   "cell_type": "code",
   "execution_count": 112,
   "id": "8f614e02",
   "metadata": {},
   "outputs": [
    {
     "data": {
      "text/html": [
       "<div>\n",
       "<style scoped>\n",
       "    .dataframe tbody tr th:only-of-type {\n",
       "        vertical-align: middle;\n",
       "    }\n",
       "\n",
       "    .dataframe tbody tr th {\n",
       "        vertical-align: top;\n",
       "    }\n",
       "\n",
       "    .dataframe thead th {\n",
       "        text-align: right;\n",
       "    }\n",
       "</style>\n",
       "<table border=\"1\" class=\"dataframe\">\n",
       "  <thead>\n",
       "    <tr style=\"text-align: right;\">\n",
       "      <th></th>\n",
       "      <th>A</th>\n",
       "      <th>B</th>\n",
       "      <th>C</th>\n",
       "      <th>D</th>\n",
       "    </tr>\n",
       "  </thead>\n",
       "  <tbody>\n",
       "    <tr>\n",
       "      <th>2022-01-03</th>\n",
       "      <td>-0.098357</td>\n",
       "      <td>-1.877524</td>\n",
       "      <td>-0.563702</td>\n",
       "      <td>-1.582558</td>\n",
       "    </tr>\n",
       "    <tr>\n",
       "      <th>2022-01-06</th>\n",
       "      <td>-0.407872</td>\n",
       "      <td>-0.181777</td>\n",
       "      <td>0.838029</td>\n",
       "      <td>-1.804034</td>\n",
       "    </tr>\n",
       "    <tr>\n",
       "      <th>2022-01-02</th>\n",
       "      <td>-0.977994</td>\n",
       "      <td>0.770002</td>\n",
       "      <td>0.499095</td>\n",
       "      <td>-0.658070</td>\n",
       "    </tr>\n",
       "    <tr>\n",
       "      <th>2022-01-05</th>\n",
       "      <td>-1.030858</td>\n",
       "      <td>-0.697145</td>\n",
       "      <td>0.336930</td>\n",
       "      <td>1.553064</td>\n",
       "    </tr>\n",
       "    <tr>\n",
       "      <th>2022-01-01</th>\n",
       "      <td>-1.205100</td>\n",
       "      <td>3.082857</td>\n",
       "      <td>-1.650389</td>\n",
       "      <td>0.255684</td>\n",
       "    </tr>\n",
       "    <tr>\n",
       "      <th>2022-01-04</th>\n",
       "      <td>-2.068831</td>\n",
       "      <td>-0.549822</td>\n",
       "      <td>-1.168545</td>\n",
       "      <td>0.501481</td>\n",
       "    </tr>\n",
       "  </tbody>\n",
       "</table>\n",
       "</div>"
      ],
      "text/plain": [
       "                   A         B         C         D\n",
       "2022-01-03 -0.098357 -1.877524 -0.563702 -1.582558\n",
       "2022-01-06 -0.407872 -0.181777  0.838029 -1.804034\n",
       "2022-01-02 -0.977994  0.770002  0.499095 -0.658070\n",
       "2022-01-05 -1.030858 -0.697145  0.336930  1.553064\n",
       "2022-01-01 -1.205100  3.082857 -1.650389  0.255684\n",
       "2022-01-04 -2.068831 -0.549822 -1.168545  0.501481"
      ]
     },
     "execution_count": 112,
     "metadata": {},
     "output_type": "execute_result"
    }
   ],
   "source": [
    "# 내림차순\n",
    "\n",
    "df.sort_values(by='A', ascending=False, inplace=True)\n",
    "df"
   ]
  },
  {
   "cell_type": "code",
   "execution_count": 113,
   "id": "2d062891",
   "metadata": {},
   "outputs": [
    {
     "data": {
      "text/html": [
       "<div>\n",
       "<style scoped>\n",
       "    .dataframe tbody tr th:only-of-type {\n",
       "        vertical-align: middle;\n",
       "    }\n",
       "\n",
       "    .dataframe tbody tr th {\n",
       "        vertical-align: top;\n",
       "    }\n",
       "\n",
       "    .dataframe thead th {\n",
       "        text-align: right;\n",
       "    }\n",
       "</style>\n",
       "<table border=\"1\" class=\"dataframe\">\n",
       "  <thead>\n",
       "    <tr style=\"text-align: right;\">\n",
       "      <th></th>\n",
       "      <th>A</th>\n",
       "      <th>B</th>\n",
       "      <th>C</th>\n",
       "      <th>D</th>\n",
       "    </tr>\n",
       "  </thead>\n",
       "  <tbody>\n",
       "    <tr>\n",
       "      <th>2022-01-01</th>\n",
       "      <td>-1.205100</td>\n",
       "      <td>3.082857</td>\n",
       "      <td>-1.650389</td>\n",
       "      <td>0.255684</td>\n",
       "    </tr>\n",
       "    <tr>\n",
       "      <th>2022-01-02</th>\n",
       "      <td>-0.977994</td>\n",
       "      <td>0.770002</td>\n",
       "      <td>0.499095</td>\n",
       "      <td>-0.658070</td>\n",
       "    </tr>\n",
       "    <tr>\n",
       "      <th>2022-01-03</th>\n",
       "      <td>-0.098357</td>\n",
       "      <td>-1.877524</td>\n",
       "      <td>-0.563702</td>\n",
       "      <td>-1.582558</td>\n",
       "    </tr>\n",
       "    <tr>\n",
       "      <th>2022-01-04</th>\n",
       "      <td>-2.068831</td>\n",
       "      <td>-0.549822</td>\n",
       "      <td>-1.168545</td>\n",
       "      <td>0.501481</td>\n",
       "    </tr>\n",
       "    <tr>\n",
       "      <th>2022-01-05</th>\n",
       "      <td>-1.030858</td>\n",
       "      <td>-0.697145</td>\n",
       "      <td>0.336930</td>\n",
       "      <td>1.553064</td>\n",
       "    </tr>\n",
       "    <tr>\n",
       "      <th>2022-01-06</th>\n",
       "      <td>-0.407872</td>\n",
       "      <td>-0.181777</td>\n",
       "      <td>0.838029</td>\n",
       "      <td>-1.804034</td>\n",
       "    </tr>\n",
       "  </tbody>\n",
       "</table>\n",
       "</div>"
      ],
      "text/plain": [
       "                   A         B         C         D\n",
       "2022-01-01 -1.205100  3.082857 -1.650389  0.255684\n",
       "2022-01-02 -0.977994  0.770002  0.499095 -0.658070\n",
       "2022-01-03 -0.098357 -1.877524 -0.563702 -1.582558\n",
       "2022-01-04 -2.068831 -0.549822 -1.168545  0.501481\n",
       "2022-01-05 -1.030858 -0.697145  0.336930  1.553064\n",
       "2022-01-06 -0.407872 -0.181777  0.838029 -1.804034"
      ]
     },
     "execution_count": 113,
     "metadata": {},
     "output_type": "execute_result"
    }
   ],
   "source": [
    "# 원상복구\n",
    "\n",
    "df = pd.DataFrame(data, index=dates, columns=[\"A\", \"B\", \"C\", \"D\"]) \n",
    "df"
   ]
  },
  {
   "cell_type": "markdown",
   "id": "11ffba98",
   "metadata": {},
   "source": [
    "---"
   ]
  },
  {
   "cell_type": "markdown",
   "id": "100749c7",
   "metadata": {},
   "source": [
    "## 2.5 condition"
   ]
  },
  {
   "cell_type": "markdown",
   "id": "6a0e8085",
   "metadata": {},
   "source": [
    "### 2.5.1 마스킹"
   ]
  },
  {
   "cell_type": "code",
   "execution_count": 127,
   "id": "fb0612a6",
   "metadata": {},
   "outputs": [
    {
     "data": {
      "text/html": [
       "<div>\n",
       "<style scoped>\n",
       "    .dataframe tbody tr th:only-of-type {\n",
       "        vertical-align: middle;\n",
       "    }\n",
       "\n",
       "    .dataframe tbody tr th {\n",
       "        vertical-align: top;\n",
       "    }\n",
       "\n",
       "    .dataframe thead th {\n",
       "        text-align: right;\n",
       "    }\n",
       "</style>\n",
       "<table border=\"1\" class=\"dataframe\">\n",
       "  <thead>\n",
       "    <tr style=\"text-align: right;\">\n",
       "      <th></th>\n",
       "      <th>A</th>\n",
       "      <th>B</th>\n",
       "      <th>C</th>\n",
       "      <th>D</th>\n",
       "    </tr>\n",
       "  </thead>\n",
       "  <tbody>\n",
       "    <tr>\n",
       "      <th>2022-01-01</th>\n",
       "      <td>-1.205100</td>\n",
       "      <td>3.082857</td>\n",
       "      <td>-1.650389</td>\n",
       "      <td>0.255684</td>\n",
       "    </tr>\n",
       "    <tr>\n",
       "      <th>2022-01-02</th>\n",
       "      <td>-0.977994</td>\n",
       "      <td>0.770002</td>\n",
       "      <td>0.499095</td>\n",
       "      <td>-0.658070</td>\n",
       "    </tr>\n",
       "    <tr>\n",
       "      <th>2022-01-03</th>\n",
       "      <td>-0.098357</td>\n",
       "      <td>-1.877524</td>\n",
       "      <td>-0.563702</td>\n",
       "      <td>-1.582558</td>\n",
       "    </tr>\n",
       "    <tr>\n",
       "      <th>2022-01-04</th>\n",
       "      <td>-2.068831</td>\n",
       "      <td>-0.549822</td>\n",
       "      <td>-1.168545</td>\n",
       "      <td>0.501481</td>\n",
       "    </tr>\n",
       "    <tr>\n",
       "      <th>2022-01-05</th>\n",
       "      <td>-1.030858</td>\n",
       "      <td>-0.697145</td>\n",
       "      <td>0.336930</td>\n",
       "      <td>1.553064</td>\n",
       "    </tr>\n",
       "    <tr>\n",
       "      <th>2022-01-06</th>\n",
       "      <td>-0.407872</td>\n",
       "      <td>-0.181777</td>\n",
       "      <td>0.838029</td>\n",
       "      <td>-1.804034</td>\n",
       "    </tr>\n",
       "  </tbody>\n",
       "</table>\n",
       "</div>"
      ],
      "text/plain": [
       "                   A         B         C         D\n",
       "2022-01-01 -1.205100  3.082857 -1.650389  0.255684\n",
       "2022-01-02 -0.977994  0.770002  0.499095 -0.658070\n",
       "2022-01-03 -0.098357 -1.877524 -0.563702 -1.582558\n",
       "2022-01-04 -2.068831 -0.549822 -1.168545  0.501481\n",
       "2022-01-05 -1.030858 -0.697145  0.336930  1.553064\n",
       "2022-01-06 -0.407872 -0.181777  0.838029 -1.804034"
      ]
     },
     "execution_count": 127,
     "metadata": {},
     "output_type": "execute_result"
    }
   ],
   "source": [
    "df"
   ]
  },
  {
   "cell_type": "code",
   "execution_count": 122,
   "id": "808bae76",
   "metadata": {},
   "outputs": [
    {
     "data": {
      "text/plain": [
       "2022-01-01    False\n",
       "2022-01-02    False\n",
       "2022-01-03    False\n",
       "2022-01-04    False\n",
       "2022-01-05    False\n",
       "2022-01-06    False\n",
       "Freq: D, Name: A, dtype: bool"
      ]
     },
     "execution_count": 122,
     "metadata": {},
     "output_type": "execute_result"
    }
   ],
   "source": [
    "# 양수만 선택\n",
    "\n",
    "df['A'] > 0"
   ]
  },
  {
   "cell_type": "code",
   "execution_count": 123,
   "id": "da67a518",
   "metadata": {},
   "outputs": [
    {
     "data": {
      "text/html": [
       "<div>\n",
       "<style scoped>\n",
       "    .dataframe tbody tr th:only-of-type {\n",
       "        vertical-align: middle;\n",
       "    }\n",
       "\n",
       "    .dataframe tbody tr th {\n",
       "        vertical-align: top;\n",
       "    }\n",
       "\n",
       "    .dataframe thead th {\n",
       "        text-align: right;\n",
       "    }\n",
       "</style>\n",
       "<table border=\"1\" class=\"dataframe\">\n",
       "  <thead>\n",
       "    <tr style=\"text-align: right;\">\n",
       "      <th></th>\n",
       "      <th>A</th>\n",
       "      <th>B</th>\n",
       "    </tr>\n",
       "  </thead>\n",
       "  <tbody>\n",
       "    <tr>\n",
       "      <th>2022-01-01</th>\n",
       "      <td>False</td>\n",
       "      <td>True</td>\n",
       "    </tr>\n",
       "    <tr>\n",
       "      <th>2022-01-02</th>\n",
       "      <td>False</td>\n",
       "      <td>True</td>\n",
       "    </tr>\n",
       "    <tr>\n",
       "      <th>2022-01-03</th>\n",
       "      <td>False</td>\n",
       "      <td>False</td>\n",
       "    </tr>\n",
       "    <tr>\n",
       "      <th>2022-01-04</th>\n",
       "      <td>False</td>\n",
       "      <td>False</td>\n",
       "    </tr>\n",
       "    <tr>\n",
       "      <th>2022-01-05</th>\n",
       "      <td>False</td>\n",
       "      <td>False</td>\n",
       "    </tr>\n",
       "    <tr>\n",
       "      <th>2022-01-06</th>\n",
       "      <td>False</td>\n",
       "      <td>False</td>\n",
       "    </tr>\n",
       "  </tbody>\n",
       "</table>\n",
       "</div>"
      ],
      "text/plain": [
       "                A      B\n",
       "2022-01-01  False   True\n",
       "2022-01-02  False   True\n",
       "2022-01-03  False  False\n",
       "2022-01-04  False  False\n",
       "2022-01-05  False  False\n",
       "2022-01-06  False  False"
      ]
     },
     "execution_count": 123,
     "metadata": {},
     "output_type": "execute_result"
    }
   ],
   "source": [
    "df[['A','B']] > 0"
   ]
  },
  {
   "cell_type": "code",
   "execution_count": 126,
   "id": "24993836",
   "metadata": {},
   "outputs": [
    {
     "data": {
      "text/html": [
       "<div>\n",
       "<style scoped>\n",
       "    .dataframe tbody tr th:only-of-type {\n",
       "        vertical-align: middle;\n",
       "    }\n",
       "\n",
       "    .dataframe tbody tr th {\n",
       "        vertical-align: top;\n",
       "    }\n",
       "\n",
       "    .dataframe thead th {\n",
       "        text-align: right;\n",
       "    }\n",
       "</style>\n",
       "<table border=\"1\" class=\"dataframe\">\n",
       "  <thead>\n",
       "    <tr style=\"text-align: right;\">\n",
       "      <th></th>\n",
       "      <th>A</th>\n",
       "      <th>B</th>\n",
       "      <th>C</th>\n",
       "      <th>D</th>\n",
       "    </tr>\n",
       "  </thead>\n",
       "  <tbody>\n",
       "    <tr>\n",
       "      <th>2022-01-01</th>\n",
       "      <td>NaN</td>\n",
       "      <td>3.082857</td>\n",
       "      <td>NaN</td>\n",
       "      <td>NaN</td>\n",
       "    </tr>\n",
       "    <tr>\n",
       "      <th>2022-01-02</th>\n",
       "      <td>NaN</td>\n",
       "      <td>0.770002</td>\n",
       "      <td>NaN</td>\n",
       "      <td>NaN</td>\n",
       "    </tr>\n",
       "    <tr>\n",
       "      <th>2022-01-03</th>\n",
       "      <td>NaN</td>\n",
       "      <td>NaN</td>\n",
       "      <td>NaN</td>\n",
       "      <td>NaN</td>\n",
       "    </tr>\n",
       "    <tr>\n",
       "      <th>2022-01-04</th>\n",
       "      <td>NaN</td>\n",
       "      <td>NaN</td>\n",
       "      <td>NaN</td>\n",
       "      <td>NaN</td>\n",
       "    </tr>\n",
       "    <tr>\n",
       "      <th>2022-01-05</th>\n",
       "      <td>NaN</td>\n",
       "      <td>NaN</td>\n",
       "      <td>NaN</td>\n",
       "      <td>NaN</td>\n",
       "    </tr>\n",
       "    <tr>\n",
       "      <th>2022-01-06</th>\n",
       "      <td>NaN</td>\n",
       "      <td>NaN</td>\n",
       "      <td>NaN</td>\n",
       "      <td>NaN</td>\n",
       "    </tr>\n",
       "  </tbody>\n",
       "</table>\n",
       "</div>"
      ],
      "text/plain": [
       "             A         B   C   D\n",
       "2022-01-01 NaN  3.082857 NaN NaN\n",
       "2022-01-02 NaN  0.770002 NaN NaN\n",
       "2022-01-03 NaN       NaN NaN NaN\n",
       "2022-01-04 NaN       NaN NaN NaN\n",
       "2022-01-05 NaN       NaN NaN NaN\n",
       "2022-01-06 NaN       NaN NaN NaN"
      ]
     },
     "execution_count": 126,
     "metadata": {},
     "output_type": "execute_result"
    }
   ],
   "source": [
    "# 마스킹\n",
    "df[df[['A','B']] > 0]"
   ]
  },
  {
   "cell_type": "code",
   "execution_count": 125,
   "id": "af134419",
   "metadata": {},
   "outputs": [
    {
     "data": {
      "text/html": [
       "<div>\n",
       "<style scoped>\n",
       "    .dataframe tbody tr th:only-of-type {\n",
       "        vertical-align: middle;\n",
       "    }\n",
       "\n",
       "    .dataframe tbody tr th {\n",
       "        vertical-align: top;\n",
       "    }\n",
       "\n",
       "    .dataframe thead th {\n",
       "        text-align: right;\n",
       "    }\n",
       "</style>\n",
       "<table border=\"1\" class=\"dataframe\">\n",
       "  <thead>\n",
       "    <tr style=\"text-align: right;\">\n",
       "      <th></th>\n",
       "      <th>A</th>\n",
       "      <th>B</th>\n",
       "      <th>C</th>\n",
       "      <th>D</th>\n",
       "    </tr>\n",
       "  </thead>\n",
       "  <tbody>\n",
       "    <tr>\n",
       "      <th>2022-01-01</th>\n",
       "      <td>NaN</td>\n",
       "      <td>3.082857</td>\n",
       "      <td>NaN</td>\n",
       "      <td>0.255684</td>\n",
       "    </tr>\n",
       "    <tr>\n",
       "      <th>2022-01-02</th>\n",
       "      <td>NaN</td>\n",
       "      <td>0.770002</td>\n",
       "      <td>0.499095</td>\n",
       "      <td>NaN</td>\n",
       "    </tr>\n",
       "    <tr>\n",
       "      <th>2022-01-03</th>\n",
       "      <td>NaN</td>\n",
       "      <td>NaN</td>\n",
       "      <td>NaN</td>\n",
       "      <td>NaN</td>\n",
       "    </tr>\n",
       "    <tr>\n",
       "      <th>2022-01-04</th>\n",
       "      <td>NaN</td>\n",
       "      <td>NaN</td>\n",
       "      <td>NaN</td>\n",
       "      <td>0.501481</td>\n",
       "    </tr>\n",
       "    <tr>\n",
       "      <th>2022-01-05</th>\n",
       "      <td>NaN</td>\n",
       "      <td>NaN</td>\n",
       "      <td>0.336930</td>\n",
       "      <td>1.553064</td>\n",
       "    </tr>\n",
       "    <tr>\n",
       "      <th>2022-01-06</th>\n",
       "      <td>NaN</td>\n",
       "      <td>NaN</td>\n",
       "      <td>0.838029</td>\n",
       "      <td>NaN</td>\n",
       "    </tr>\n",
       "  </tbody>\n",
       "</table>\n",
       "</div>"
      ],
      "text/plain": [
       "             A         B         C         D\n",
       "2022-01-01 NaN  3.082857       NaN  0.255684\n",
       "2022-01-02 NaN  0.770002  0.499095       NaN\n",
       "2022-01-03 NaN       NaN       NaN       NaN\n",
       "2022-01-04 NaN       NaN       NaN  0.501481\n",
       "2022-01-05 NaN       NaN  0.336930  1.553064\n",
       "2022-01-06 NaN       NaN  0.838029       NaN"
      ]
     },
     "execution_count": 125,
     "metadata": {},
     "output_type": "execute_result"
    }
   ],
   "source": [
    "# NaN : Not a Number\n",
    "\n",
    "df[df > 0]"
   ]
  },
  {
   "cell_type": "markdown",
   "id": "b75deb43",
   "metadata": {},
   "source": [
    "### 2.5.2 isin()"
   ]
  },
  {
   "cell_type": "markdown",
   "id": "14c85ebf",
   "metadata": {},
   "source": [
    "- isin() : 특정 요소가 있는지 확인"
   ]
  },
  {
   "cell_type": "code",
   "execution_count": 184,
   "id": "c0626052",
   "metadata": {},
   "outputs": [
    {
     "data": {
      "text/html": [
       "<div>\n",
       "<style scoped>\n",
       "    .dataframe tbody tr th:only-of-type {\n",
       "        vertical-align: middle;\n",
       "    }\n",
       "\n",
       "    .dataframe tbody tr th {\n",
       "        vertical-align: top;\n",
       "    }\n",
       "\n",
       "    .dataframe thead th {\n",
       "        text-align: right;\n",
       "    }\n",
       "</style>\n",
       "<table border=\"1\" class=\"dataframe\">\n",
       "  <thead>\n",
       "    <tr style=\"text-align: right;\">\n",
       "      <th></th>\n",
       "      <th>A</th>\n",
       "      <th>B</th>\n",
       "      <th>C</th>\n",
       "      <th>D</th>\n",
       "      <th>E</th>\n",
       "    </tr>\n",
       "  </thead>\n",
       "  <tbody>\n",
       "    <tr>\n",
       "      <th>2022-01-01</th>\n",
       "      <td>-1.205100</td>\n",
       "      <td>3.082857</td>\n",
       "      <td>-1.650389</td>\n",
       "      <td>0.255684</td>\n",
       "      <td>one</td>\n",
       "    </tr>\n",
       "    <tr>\n",
       "      <th>2022-01-02</th>\n",
       "      <td>-0.977994</td>\n",
       "      <td>0.770002</td>\n",
       "      <td>0.499095</td>\n",
       "      <td>-0.658070</td>\n",
       "      <td>one</td>\n",
       "    </tr>\n",
       "    <tr>\n",
       "      <th>2022-01-03</th>\n",
       "      <td>-0.098357</td>\n",
       "      <td>-1.877524</td>\n",
       "      <td>-0.563702</td>\n",
       "      <td>-1.582558</td>\n",
       "      <td>two</td>\n",
       "    </tr>\n",
       "    <tr>\n",
       "      <th>2022-01-04</th>\n",
       "      <td>-2.068831</td>\n",
       "      <td>-0.549822</td>\n",
       "      <td>-1.168545</td>\n",
       "      <td>0.501481</td>\n",
       "      <td>three</td>\n",
       "    </tr>\n",
       "    <tr>\n",
       "      <th>2022-01-05</th>\n",
       "      <td>-1.030858</td>\n",
       "      <td>-0.697145</td>\n",
       "      <td>0.336930</td>\n",
       "      <td>1.553064</td>\n",
       "      <td>four</td>\n",
       "    </tr>\n",
       "    <tr>\n",
       "      <th>2022-01-06</th>\n",
       "      <td>-0.407872</td>\n",
       "      <td>-0.181777</td>\n",
       "      <td>0.838029</td>\n",
       "      <td>-1.804034</td>\n",
       "      <td>seven</td>\n",
       "    </tr>\n",
       "  </tbody>\n",
       "</table>\n",
       "</div>"
      ],
      "text/plain": [
       "                   A         B         C         D      E\n",
       "2022-01-01 -1.205100  3.082857 -1.650389  0.255684    one\n",
       "2022-01-02 -0.977994  0.770002  0.499095 -0.658070    one\n",
       "2022-01-03 -0.098357 -1.877524 -0.563702 -1.582558    two\n",
       "2022-01-04 -2.068831 -0.549822 -1.168545  0.501481  three\n",
       "2022-01-05 -1.030858 -0.697145  0.336930  1.553064   four\n",
       "2022-01-06 -0.407872 -0.181777  0.838029 -1.804034  seven"
      ]
     },
     "execution_count": 184,
     "metadata": {},
     "output_type": "execute_result"
    }
   ],
   "source": [
    "df['E'] = ['one', 'one', 'two', 'three', 'four', 'seven']\n",
    "df"
   ]
  },
  {
   "cell_type": "code",
   "execution_count": 185,
   "id": "7ed75f02",
   "metadata": {},
   "outputs": [
    {
     "data": {
      "text/plain": [
       "2022-01-01    False\n",
       "2022-01-02    False\n",
       "2022-01-03     True\n",
       "2022-01-04    False\n",
       "2022-01-05    False\n",
       "2022-01-06    False\n",
       "Freq: D, Name: E, dtype: bool"
      ]
     },
     "execution_count": 185,
     "metadata": {},
     "output_type": "execute_result"
    }
   ],
   "source": [
    "df['E'].isin([\"two\"])"
   ]
  },
  {
   "cell_type": "code",
   "execution_count": 186,
   "id": "71e0e7ec",
   "metadata": {},
   "outputs": [
    {
     "data": {
      "text/plain": [
       "2022-01-01    False\n",
       "2022-01-02    False\n",
       "2022-01-03     True\n",
       "2022-01-04    False\n",
       "2022-01-05    False\n",
       "2022-01-06     True\n",
       "Freq: D, Name: E, dtype: bool"
      ]
     },
     "execution_count": 186,
     "metadata": {},
     "output_type": "execute_result"
    }
   ],
   "source": [
    "df['E'].isin([\"two\", \"seven\"])"
   ]
  },
  {
   "cell_type": "code",
   "execution_count": 187,
   "id": "d3c3cde3",
   "metadata": {},
   "outputs": [
    {
     "data": {
      "text/html": [
       "<div>\n",
       "<style scoped>\n",
       "    .dataframe tbody tr th:only-of-type {\n",
       "        vertical-align: middle;\n",
       "    }\n",
       "\n",
       "    .dataframe tbody tr th {\n",
       "        vertical-align: top;\n",
       "    }\n",
       "\n",
       "    .dataframe thead th {\n",
       "        text-align: right;\n",
       "    }\n",
       "</style>\n",
       "<table border=\"1\" class=\"dataframe\">\n",
       "  <thead>\n",
       "    <tr style=\"text-align: right;\">\n",
       "      <th></th>\n",
       "      <th>A</th>\n",
       "      <th>B</th>\n",
       "      <th>C</th>\n",
       "      <th>D</th>\n",
       "      <th>E</th>\n",
       "    </tr>\n",
       "  </thead>\n",
       "  <tbody>\n",
       "    <tr>\n",
       "      <th>2022-01-03</th>\n",
       "      <td>-0.098357</td>\n",
       "      <td>-1.877524</td>\n",
       "      <td>-0.563702</td>\n",
       "      <td>-1.582558</td>\n",
       "      <td>two</td>\n",
       "    </tr>\n",
       "    <tr>\n",
       "      <th>2022-01-06</th>\n",
       "      <td>-0.407872</td>\n",
       "      <td>-0.181777</td>\n",
       "      <td>0.838029</td>\n",
       "      <td>-1.804034</td>\n",
       "      <td>seven</td>\n",
       "    </tr>\n",
       "  </tbody>\n",
       "</table>\n",
       "</div>"
      ],
      "text/plain": [
       "                   A         B         C         D      E\n",
       "2022-01-03 -0.098357 -1.877524 -0.563702 -1.582558    two\n",
       "2022-01-06 -0.407872 -0.181777  0.838029 -1.804034  seven"
      ]
     },
     "execution_count": 187,
     "metadata": {},
     "output_type": "execute_result"
    }
   ],
   "source": [
    "# 마스킹\n",
    "df[df['E'].isin([\"two\", \"seven\"])]"
   ]
  },
  {
   "cell_type": "markdown",
   "id": "f154eede",
   "metadata": {},
   "source": [
    "### 2.5.3 str.contains()"
   ]
  },
  {
   "cell_type": "code",
   "execution_count": 188,
   "id": "a4b91919",
   "metadata": {},
   "outputs": [
    {
     "data": {
      "text/html": [
       "<div>\n",
       "<style scoped>\n",
       "    .dataframe tbody tr th:only-of-type {\n",
       "        vertical-align: middle;\n",
       "    }\n",
       "\n",
       "    .dataframe tbody tr th {\n",
       "        vertical-align: top;\n",
       "    }\n",
       "\n",
       "    .dataframe thead th {\n",
       "        text-align: right;\n",
       "    }\n",
       "</style>\n",
       "<table border=\"1\" class=\"dataframe\">\n",
       "  <thead>\n",
       "    <tr style=\"text-align: right;\">\n",
       "      <th></th>\n",
       "      <th>A</th>\n",
       "      <th>B</th>\n",
       "      <th>C</th>\n",
       "      <th>D</th>\n",
       "      <th>E</th>\n",
       "    </tr>\n",
       "  </thead>\n",
       "  <tbody>\n",
       "    <tr>\n",
       "      <th>2022-01-01</th>\n",
       "      <td>-1.205100</td>\n",
       "      <td>3.082857</td>\n",
       "      <td>-1.650389</td>\n",
       "      <td>0.255684</td>\n",
       "      <td>one</td>\n",
       "    </tr>\n",
       "    <tr>\n",
       "      <th>2022-01-02</th>\n",
       "      <td>-0.977994</td>\n",
       "      <td>0.770002</td>\n",
       "      <td>0.499095</td>\n",
       "      <td>-0.658070</td>\n",
       "      <td>one</td>\n",
       "    </tr>\n",
       "    <tr>\n",
       "      <th>2022-01-03</th>\n",
       "      <td>-0.098357</td>\n",
       "      <td>-1.877524</td>\n",
       "      <td>-0.563702</td>\n",
       "      <td>-1.582558</td>\n",
       "      <td>two</td>\n",
       "    </tr>\n",
       "    <tr>\n",
       "      <th>2022-01-04</th>\n",
       "      <td>-2.068831</td>\n",
       "      <td>-0.549822</td>\n",
       "      <td>-1.168545</td>\n",
       "      <td>0.501481</td>\n",
       "      <td>three</td>\n",
       "    </tr>\n",
       "    <tr>\n",
       "      <th>2022-01-05</th>\n",
       "      <td>-1.030858</td>\n",
       "      <td>-0.697145</td>\n",
       "      <td>0.336930</td>\n",
       "      <td>1.553064</td>\n",
       "      <td>four</td>\n",
       "    </tr>\n",
       "    <tr>\n",
       "      <th>2022-01-06</th>\n",
       "      <td>-0.407872</td>\n",
       "      <td>-0.181777</td>\n",
       "      <td>0.838029</td>\n",
       "      <td>-1.804034</td>\n",
       "      <td>seven</td>\n",
       "    </tr>\n",
       "  </tbody>\n",
       "</table>\n",
       "</div>"
      ],
      "text/plain": [
       "                   A         B         C         D      E\n",
       "2022-01-01 -1.205100  3.082857 -1.650389  0.255684    one\n",
       "2022-01-02 -0.977994  0.770002  0.499095 -0.658070    one\n",
       "2022-01-03 -0.098357 -1.877524 -0.563702 -1.582558    two\n",
       "2022-01-04 -2.068831 -0.549822 -1.168545  0.501481  three\n",
       "2022-01-05 -1.030858 -0.697145  0.336930  1.553064   four\n",
       "2022-01-06 -0.407872 -0.181777  0.838029 -1.804034  seven"
      ]
     },
     "execution_count": 188,
     "metadata": {},
     "output_type": "execute_result"
    }
   ],
   "source": [
    "df"
   ]
  },
  {
   "cell_type": "code",
   "execution_count": 189,
   "id": "eb7d6b43",
   "metadata": {},
   "outputs": [
    {
     "data": {
      "text/plain": [
       "2022-01-01     True\n",
       "2022-01-02     True\n",
       "2022-01-03    False\n",
       "2022-01-04    False\n",
       "2022-01-05    False\n",
       "2022-01-06    False\n",
       "Freq: D, Name: E, dtype: bool"
      ]
     },
     "execution_count": 189,
     "metadata": {},
     "output_type": "execute_result"
    }
   ],
   "source": [
    "df['E'].str.contains('one')"
   ]
  },
  {
   "cell_type": "code",
   "execution_count": 191,
   "id": "2eb7733c",
   "metadata": {},
   "outputs": [
    {
     "data": {
      "text/plain": [
       "2"
      ]
     },
     "execution_count": 191,
     "metadata": {},
     "output_type": "execute_result"
    }
   ],
   "source": [
    "sum(df['E'].str.contains('one'))"
   ]
  },
  {
   "cell_type": "code",
   "execution_count": 193,
   "id": "f8d9445b",
   "metadata": {},
   "outputs": [
    {
     "data": {
      "text/plain": [
       "one      2\n",
       "two      1\n",
       "four     1\n",
       "seven    1\n",
       "three    1\n",
       "Name: E, dtype: int64"
      ]
     },
     "execution_count": 193,
     "metadata": {},
     "output_type": "execute_result"
    }
   ],
   "source": [
    "df['E'].value_counts()"
   ]
  },
  {
   "cell_type": "code",
   "execution_count": 151,
   "id": "fae164b0",
   "metadata": {},
   "outputs": [
    {
     "data": {
      "text/html": [
       "<div>\n",
       "<style scoped>\n",
       "    .dataframe tbody tr th:only-of-type {\n",
       "        vertical-align: middle;\n",
       "    }\n",
       "\n",
       "    .dataframe tbody tr th {\n",
       "        vertical-align: top;\n",
       "    }\n",
       "\n",
       "    .dataframe thead th {\n",
       "        text-align: right;\n",
       "    }\n",
       "</style>\n",
       "<table border=\"1\" class=\"dataframe\">\n",
       "  <thead>\n",
       "    <tr style=\"text-align: right;\">\n",
       "      <th></th>\n",
       "      <th>A</th>\n",
       "      <th>B</th>\n",
       "      <th>C</th>\n",
       "      <th>D</th>\n",
       "      <th>E</th>\n",
       "    </tr>\n",
       "  </thead>\n",
       "  <tbody>\n",
       "    <tr>\n",
       "      <th>2022-01-01</th>\n",
       "      <td>-1.205100</td>\n",
       "      <td>3.082857</td>\n",
       "      <td>-1.650389</td>\n",
       "      <td>0.255684</td>\n",
       "      <td>one</td>\n",
       "    </tr>\n",
       "    <tr>\n",
       "      <th>2022-01-02</th>\n",
       "      <td>-0.977994</td>\n",
       "      <td>0.770002</td>\n",
       "      <td>0.499095</td>\n",
       "      <td>-0.658070</td>\n",
       "      <td>one</td>\n",
       "    </tr>\n",
       "  </tbody>\n",
       "</table>\n",
       "</div>"
      ],
      "text/plain": [
       "                   A         B         C         D    E\n",
       "2022-01-01 -1.205100  3.082857 -1.650389  0.255684  one\n",
       "2022-01-02 -0.977994  0.770002  0.499095 -0.658070  one"
      ]
     },
     "execution_count": 151,
     "metadata": {},
     "output_type": "execute_result"
    }
   ],
   "source": [
    "df.loc[df['E'].str.contains('one'), :]"
   ]
  },
  {
   "cell_type": "code",
   "execution_count": 194,
   "id": "7314ec3a",
   "metadata": {},
   "outputs": [
    {
     "data": {
      "text/html": [
       "<div>\n",
       "<style scoped>\n",
       "    .dataframe tbody tr th:only-of-type {\n",
       "        vertical-align: middle;\n",
       "    }\n",
       "\n",
       "    .dataframe tbody tr th {\n",
       "        vertical-align: top;\n",
       "    }\n",
       "\n",
       "    .dataframe thead th {\n",
       "        text-align: right;\n",
       "    }\n",
       "</style>\n",
       "<table border=\"1\" class=\"dataframe\">\n",
       "  <thead>\n",
       "    <tr style=\"text-align: right;\">\n",
       "      <th></th>\n",
       "      <th>A</th>\n",
       "      <th>B</th>\n",
       "      <th>C</th>\n",
       "      <th>D</th>\n",
       "    </tr>\n",
       "  </thead>\n",
       "  <tbody>\n",
       "    <tr>\n",
       "      <th>2022-01-01</th>\n",
       "      <td>-1.205100</td>\n",
       "      <td>3.082857</td>\n",
       "      <td>-1.650389</td>\n",
       "      <td>0.255684</td>\n",
       "    </tr>\n",
       "    <tr>\n",
       "      <th>2022-01-02</th>\n",
       "      <td>-0.977994</td>\n",
       "      <td>0.770002</td>\n",
       "      <td>0.499095</td>\n",
       "      <td>-0.658070</td>\n",
       "    </tr>\n",
       "    <tr>\n",
       "      <th>2022-01-03</th>\n",
       "      <td>-0.098357</td>\n",
       "      <td>-1.877524</td>\n",
       "      <td>-0.563702</td>\n",
       "      <td>-1.582558</td>\n",
       "    </tr>\n",
       "    <tr>\n",
       "      <th>2022-01-04</th>\n",
       "      <td>-2.068831</td>\n",
       "      <td>-0.549822</td>\n",
       "      <td>-1.168545</td>\n",
       "      <td>0.501481</td>\n",
       "    </tr>\n",
       "    <tr>\n",
       "      <th>2022-01-05</th>\n",
       "      <td>-1.030858</td>\n",
       "      <td>-0.697145</td>\n",
       "      <td>0.336930</td>\n",
       "      <td>1.553064</td>\n",
       "    </tr>\n",
       "    <tr>\n",
       "      <th>2022-01-06</th>\n",
       "      <td>-0.407872</td>\n",
       "      <td>-0.181777</td>\n",
       "      <td>0.838029</td>\n",
       "      <td>-1.804034</td>\n",
       "    </tr>\n",
       "  </tbody>\n",
       "</table>\n",
       "</div>"
      ],
      "text/plain": [
       "                   A         B         C         D\n",
       "2022-01-01 -1.205100  3.082857 -1.650389  0.255684\n",
       "2022-01-02 -0.977994  0.770002  0.499095 -0.658070\n",
       "2022-01-03 -0.098357 -1.877524 -0.563702 -1.582558\n",
       "2022-01-04 -2.068831 -0.549822 -1.168545  0.501481\n",
       "2022-01-05 -1.030858 -0.697145  0.336930  1.553064\n",
       "2022-01-06 -0.407872 -0.181777  0.838029 -1.804034"
      ]
     },
     "execution_count": 194,
     "metadata": {},
     "output_type": "execute_result"
    }
   ],
   "source": [
    "# 원상복구\n",
    "\n",
    "del df['E']\n",
    "df"
   ]
  },
  {
   "cell_type": "markdown",
   "id": "91c3ae78",
   "metadata": {},
   "source": [
    "---"
   ]
  },
  {
   "cell_type": "markdown",
   "id": "d809d2f6",
   "metadata": {},
   "source": [
    "## 2.6 만들기"
   ]
  },
  {
   "cell_type": "markdown",
   "id": "6b427350",
   "metadata": {},
   "source": [
    "#### 2.6.1 컬럼 만들기"
   ]
  },
  {
   "cell_type": "code",
   "execution_count": 156,
   "id": "f9f44014",
   "metadata": {},
   "outputs": [
    {
     "data": {
      "text/html": [
       "<div>\n",
       "<style scoped>\n",
       "    .dataframe tbody tr th:only-of-type {\n",
       "        vertical-align: middle;\n",
       "    }\n",
       "\n",
       "    .dataframe tbody tr th {\n",
       "        vertical-align: top;\n",
       "    }\n",
       "\n",
       "    .dataframe thead th {\n",
       "        text-align: right;\n",
       "    }\n",
       "</style>\n",
       "<table border=\"1\" class=\"dataframe\">\n",
       "  <thead>\n",
       "    <tr style=\"text-align: right;\">\n",
       "      <th></th>\n",
       "      <th>A</th>\n",
       "      <th>B</th>\n",
       "      <th>C</th>\n",
       "      <th>D</th>\n",
       "      <th>E</th>\n",
       "    </tr>\n",
       "  </thead>\n",
       "  <tbody>\n",
       "    <tr>\n",
       "      <th>2022-01-01</th>\n",
       "      <td>-1.205100</td>\n",
       "      <td>3.082857</td>\n",
       "      <td>-1.650389</td>\n",
       "      <td>0.255684</td>\n",
       "      <td>one</td>\n",
       "    </tr>\n",
       "    <tr>\n",
       "      <th>2022-01-02</th>\n",
       "      <td>-0.977994</td>\n",
       "      <td>0.770002</td>\n",
       "      <td>0.499095</td>\n",
       "      <td>-0.658070</td>\n",
       "      <td>one</td>\n",
       "    </tr>\n",
       "    <tr>\n",
       "      <th>2022-01-03</th>\n",
       "      <td>-0.098357</td>\n",
       "      <td>-1.877524</td>\n",
       "      <td>-0.563702</td>\n",
       "      <td>-1.582558</td>\n",
       "      <td>two</td>\n",
       "    </tr>\n",
       "    <tr>\n",
       "      <th>2022-01-04</th>\n",
       "      <td>-2.068831</td>\n",
       "      <td>-0.549822</td>\n",
       "      <td>-1.168545</td>\n",
       "      <td>0.501481</td>\n",
       "      <td>three</td>\n",
       "    </tr>\n",
       "    <tr>\n",
       "      <th>2022-01-05</th>\n",
       "      <td>-1.030858</td>\n",
       "      <td>-0.697145</td>\n",
       "      <td>0.336930</td>\n",
       "      <td>1.553064</td>\n",
       "      <td>four</td>\n",
       "    </tr>\n",
       "    <tr>\n",
       "      <th>2022-01-06</th>\n",
       "      <td>-0.407872</td>\n",
       "      <td>-0.181777</td>\n",
       "      <td>0.838029</td>\n",
       "      <td>-1.804034</td>\n",
       "      <td>seven</td>\n",
       "    </tr>\n",
       "  </tbody>\n",
       "</table>\n",
       "</div>"
      ],
      "text/plain": [
       "                   A         B         C         D      E\n",
       "2022-01-01 -1.205100  3.082857 -1.650389  0.255684    one\n",
       "2022-01-02 -0.977994  0.770002  0.499095 -0.658070    one\n",
       "2022-01-03 -0.098357 -1.877524 -0.563702 -1.582558    two\n",
       "2022-01-04 -2.068831 -0.549822 -1.168545  0.501481  three\n",
       "2022-01-05 -1.030858 -0.697145  0.336930  1.553064   four\n",
       "2022-01-06 -0.407872 -0.181777  0.838029 -1.804034  seven"
      ]
     },
     "execution_count": 156,
     "metadata": {},
     "output_type": "execute_result"
    }
   ],
   "source": [
    "df"
   ]
  },
  {
   "cell_type": "code",
   "execution_count": 212,
   "id": "67909ad9",
   "metadata": {},
   "outputs": [
    {
     "data": {
      "text/html": [
       "<div>\n",
       "<style scoped>\n",
       "    .dataframe tbody tr th:only-of-type {\n",
       "        vertical-align: middle;\n",
       "    }\n",
       "\n",
       "    .dataframe tbody tr th {\n",
       "        vertical-align: top;\n",
       "    }\n",
       "\n",
       "    .dataframe thead th {\n",
       "        text-align: right;\n",
       "    }\n",
       "</style>\n",
       "<table border=\"1\" class=\"dataframe\">\n",
       "  <thead>\n",
       "    <tr style=\"text-align: right;\">\n",
       "      <th></th>\n",
       "      <th>A</th>\n",
       "      <th>B</th>\n",
       "      <th>C</th>\n",
       "      <th>D</th>\n",
       "      <th>E</th>\n",
       "    </tr>\n",
       "  </thead>\n",
       "  <tbody>\n",
       "    <tr>\n",
       "      <th>2022-01-01</th>\n",
       "      <td>-1.205100</td>\n",
       "      <td>3.082857</td>\n",
       "      <td>-1.650389</td>\n",
       "      <td>0.255684</td>\n",
       "      <td>one</td>\n",
       "    </tr>\n",
       "    <tr>\n",
       "      <th>2022-01-02</th>\n",
       "      <td>-0.977994</td>\n",
       "      <td>0.770002</td>\n",
       "      <td>0.499095</td>\n",
       "      <td>-0.658070</td>\n",
       "      <td>one</td>\n",
       "    </tr>\n",
       "    <tr>\n",
       "      <th>2022-01-03</th>\n",
       "      <td>-0.098357</td>\n",
       "      <td>-1.877524</td>\n",
       "      <td>-0.563702</td>\n",
       "      <td>-1.582558</td>\n",
       "      <td>two</td>\n",
       "    </tr>\n",
       "    <tr>\n",
       "      <th>2022-01-04</th>\n",
       "      <td>-2.068831</td>\n",
       "      <td>-0.549822</td>\n",
       "      <td>-1.168545</td>\n",
       "      <td>0.501481</td>\n",
       "      <td>three</td>\n",
       "    </tr>\n",
       "    <tr>\n",
       "      <th>2022-01-05</th>\n",
       "      <td>-1.030858</td>\n",
       "      <td>-0.697145</td>\n",
       "      <td>0.336930</td>\n",
       "      <td>1.553064</td>\n",
       "      <td>four</td>\n",
       "    </tr>\n",
       "    <tr>\n",
       "      <th>2022-01-06</th>\n",
       "      <td>-0.407872</td>\n",
       "      <td>-0.181777</td>\n",
       "      <td>0.838029</td>\n",
       "      <td>-1.804034</td>\n",
       "      <td>seven</td>\n",
       "    </tr>\n",
       "  </tbody>\n",
       "</table>\n",
       "</div>"
      ],
      "text/plain": [
       "                   A         B         C         D      E\n",
       "2022-01-01 -1.205100  3.082857 -1.650389  0.255684    one\n",
       "2022-01-02 -0.977994  0.770002  0.499095 -0.658070    one\n",
       "2022-01-03 -0.098357 -1.877524 -0.563702 -1.582558    two\n",
       "2022-01-04 -2.068831 -0.549822 -1.168545  0.501481  three\n",
       "2022-01-05 -1.030858 -0.697145  0.336930  1.553064   four\n",
       "2022-01-06 -0.407872 -0.181777  0.838029 -1.804034  seven"
      ]
     },
     "execution_count": 212,
     "metadata": {},
     "output_type": "execute_result"
    }
   ],
   "source": [
    "# 기존 칼럼이 없으면 추가\n",
    "# 기존 칼럼이 있으면 수정\n",
    "\n",
    "df['E'] = ['one', 'one', 'two', 'three', 'four', 'seven']\n",
    "df"
   ]
  },
  {
   "cell_type": "markdown",
   "id": "52b960f2",
   "metadata": {},
   "source": [
    "#### 2.6.2 `apply`"
   ]
  },
  {
   "cell_type": "code",
   "execution_count": 166,
   "id": "81fcb4f9",
   "metadata": {},
   "outputs": [
    {
     "data": {
      "text/plain": [
       "-5.789012865809826"
      ]
     },
     "execution_count": 166,
     "metadata": {},
     "output_type": "execute_result"
    }
   ],
   "source": [
    "# 덧셈\n",
    "df['A'].apply('sum')"
   ]
  },
  {
   "cell_type": "code",
   "execution_count": 162,
   "id": "9b80d0ec",
   "metadata": {},
   "outputs": [
    {
     "data": {
      "text/plain": [
       "-0.964835477634971"
      ]
     },
     "execution_count": 162,
     "metadata": {},
     "output_type": "execute_result"
    }
   ],
   "source": [
    "# 중앙값\n",
    "df['A'].apply('mean')"
   ]
  },
  {
   "cell_type": "code",
   "execution_count": 167,
   "id": "707e650e",
   "metadata": {},
   "outputs": [
    {
     "data": {
      "text/plain": [
       "0.6844058702105106"
      ]
     },
     "execution_count": 167,
     "metadata": {},
     "output_type": "execute_result"
    }
   ],
   "source": [
    "# 표준편차\n",
    "df['A'].apply('std')"
   ]
  },
  {
   "cell_type": "code",
   "execution_count": 169,
   "id": "356b9661",
   "metadata": {},
   "outputs": [
    {
     "data": {
      "text/plain": [
       "-2.0688309368114406"
      ]
     },
     "execution_count": 169,
     "metadata": {},
     "output_type": "execute_result"
    }
   ],
   "source": [
    "# 최솟값\n",
    "df['A'].apply('min')"
   ]
  },
  {
   "cell_type": "code",
   "execution_count": 170,
   "id": "be1eb64c",
   "metadata": {},
   "outputs": [
    {
     "data": {
      "text/plain": [
       "-0.0983574768301934"
      ]
     },
     "execution_count": 170,
     "metadata": {},
     "output_type": "execute_result"
    }
   ],
   "source": [
    "# 최댓값\n",
    "df['A'].apply('max')"
   ]
  },
  {
   "cell_type": "code",
   "execution_count": 116,
   "id": "08d166a3",
   "metadata": {},
   "outputs": [
    {
     "data": {
      "text/plain": [
       "2022-05-26   -0.178990\n",
       "2022-05-27    1.461440\n",
       "2022-05-28    0.798987\n",
       "2022-05-29   -0.889393\n",
       "2022-05-30    0.821736\n",
       "2022-05-31   -0.300977\n",
       "Freq: D, Name: A, dtype: float64"
      ]
     },
     "execution_count": 116,
     "metadata": {},
     "output_type": "execute_result"
    }
   ],
   "source": [
    "df['A'].apply(np.sum)"
   ]
  },
  {
   "cell_type": "code",
   "execution_count": 117,
   "id": "2540c5c2",
   "metadata": {},
   "outputs": [
    {
     "data": {
      "text/plain": [
       "2022-05-26   -0.178990\n",
       "2022-05-27    1.461440\n",
       "2022-05-28    0.798987\n",
       "2022-05-29   -0.889393\n",
       "2022-05-30    0.821736\n",
       "2022-05-31   -0.300977\n",
       "Freq: D, Name: A, dtype: float64"
      ]
     },
     "execution_count": 117,
     "metadata": {},
     "output_type": "execute_result"
    }
   ],
   "source": [
    "df['A'].apply(np.mean)"
   ]
  },
  {
   "cell_type": "code",
   "execution_count": 118,
   "id": "4792a6e0",
   "metadata": {},
   "outputs": [
    {
     "data": {
      "text/plain": [
       "2022-05-26    0.0\n",
       "2022-05-27    0.0\n",
       "2022-05-28    0.0\n",
       "2022-05-29    0.0\n",
       "2022-05-30    0.0\n",
       "2022-05-31    0.0\n",
       "Freq: D, Name: A, dtype: float64"
      ]
     },
     "execution_count": 118,
     "metadata": {},
     "output_type": "execute_result"
    }
   ],
   "source": [
    "df['A'].apply(np.std)"
   ]
  },
  {
   "cell_type": "code",
   "execution_count": 171,
   "id": "43b5f6d5",
   "metadata": {},
   "outputs": [
    {
     "data": {
      "text/plain": [
       "A   -2.068831\n",
       "B   -1.877524\n",
       "C   -1.650389\n",
       "D   -1.804034\n",
       "dtype: float64"
      ]
     },
     "execution_count": 171,
     "metadata": {},
     "output_type": "execute_result"
    }
   ],
   "source": [
    "df.apply(np.min)"
   ]
  },
  {
   "cell_type": "code",
   "execution_count": 172,
   "id": "ea484c72",
   "metadata": {},
   "outputs": [
    {
     "data": {
      "text/plain": [
       "A   -0.098357\n",
       "B    3.082857\n",
       "C    0.838029\n",
       "D    1.553064\n",
       "dtype: float64"
      ]
     },
     "execution_count": 172,
     "metadata": {},
     "output_type": "execute_result"
    }
   ],
   "source": [
    "df.apply(np.max)"
   ]
  },
  {
   "cell_type": "code",
   "execution_count": 175,
   "id": "383977ae",
   "metadata": {},
   "outputs": [
    {
     "data": {
      "text/plain": [
       "2022-01-01    minus\n",
       "2022-01-02    minus\n",
       "2022-01-03    minus\n",
       "2022-01-04    minus\n",
       "2022-01-05    minus\n",
       "2022-01-06    minus\n",
       "Freq: D, Name: A, dtype: object"
      ]
     },
     "execution_count": 175,
     "metadata": {},
     "output_type": "execute_result"
    }
   ],
   "source": [
    "# 함수를 만들어서 적용시킬 수 잇음\n",
    "def plusminus(num):\n",
    "    return \"plus\" if num>0  else \"minus\"\n",
    "\n",
    "df['A'].apply(plusminus)"
   ]
  },
  {
   "cell_type": "code",
   "execution_count": 176,
   "id": "31e425a3",
   "metadata": {},
   "outputs": [
    {
     "data": {
      "text/plain": [
       "2022-01-01    minus\n",
       "2022-01-02    minus\n",
       "2022-01-03    minus\n",
       "2022-01-04    minus\n",
       "2022-01-05    minus\n",
       "2022-01-06    minus\n",
       "Freq: D, Name: A, dtype: object"
      ]
     },
     "execution_count": 176,
     "metadata": {},
     "output_type": "execute_result"
    }
   ],
   "source": [
    "# 람다로 표현을 더 간결하게 할 수 있음\n",
    "df[\"A\"].apply(lambda num: \"plus\" if num > 0 else \"minus\")"
   ]
  },
  {
   "cell_type": "code",
   "execution_count": 177,
   "id": "d0b5e515",
   "metadata": {},
   "outputs": [
    {
     "data": {
      "text/plain": [
       "A   -5.789013\n",
       "D   -1.734434\n",
       "dtype: float64"
      ]
     },
     "execution_count": 177,
     "metadata": {},
     "output_type": "execute_result"
    }
   ],
   "source": [
    "# 여러 열을 동시에 함수 적용\n",
    "df[['A','D']].apply('sum')"
   ]
  },
  {
   "cell_type": "markdown",
   "id": "21bdd2bb",
   "metadata": {},
   "source": [
    "---"
   ]
  },
  {
   "cell_type": "markdown",
   "id": "81b1fa53",
   "metadata": {},
   "source": [
    "## 2.7 칼럼 제거\n",
    "- del\n",
    "- drop"
   ]
  },
  {
   "cell_type": "code",
   "execution_count": 213,
   "id": "4702fec3",
   "metadata": {},
   "outputs": [
    {
     "data": {
      "text/html": [
       "<div>\n",
       "<style scoped>\n",
       "    .dataframe tbody tr th:only-of-type {\n",
       "        vertical-align: middle;\n",
       "    }\n",
       "\n",
       "    .dataframe tbody tr th {\n",
       "        vertical-align: top;\n",
       "    }\n",
       "\n",
       "    .dataframe thead th {\n",
       "        text-align: right;\n",
       "    }\n",
       "</style>\n",
       "<table border=\"1\" class=\"dataframe\">\n",
       "  <thead>\n",
       "    <tr style=\"text-align: right;\">\n",
       "      <th></th>\n",
       "      <th>A</th>\n",
       "      <th>B</th>\n",
       "      <th>C</th>\n",
       "      <th>D</th>\n",
       "      <th>E</th>\n",
       "    </tr>\n",
       "  </thead>\n",
       "  <tbody>\n",
       "    <tr>\n",
       "      <th>2022-01-01</th>\n",
       "      <td>-1.205100</td>\n",
       "      <td>3.082857</td>\n",
       "      <td>-1.650389</td>\n",
       "      <td>0.255684</td>\n",
       "      <td>one</td>\n",
       "    </tr>\n",
       "    <tr>\n",
       "      <th>2022-01-02</th>\n",
       "      <td>-0.977994</td>\n",
       "      <td>0.770002</td>\n",
       "      <td>0.499095</td>\n",
       "      <td>-0.658070</td>\n",
       "      <td>one</td>\n",
       "    </tr>\n",
       "    <tr>\n",
       "      <th>2022-01-03</th>\n",
       "      <td>-0.098357</td>\n",
       "      <td>-1.877524</td>\n",
       "      <td>-0.563702</td>\n",
       "      <td>-1.582558</td>\n",
       "      <td>two</td>\n",
       "    </tr>\n",
       "    <tr>\n",
       "      <th>2022-01-04</th>\n",
       "      <td>-2.068831</td>\n",
       "      <td>-0.549822</td>\n",
       "      <td>-1.168545</td>\n",
       "      <td>0.501481</td>\n",
       "      <td>three</td>\n",
       "    </tr>\n",
       "    <tr>\n",
       "      <th>2022-01-05</th>\n",
       "      <td>-1.030858</td>\n",
       "      <td>-0.697145</td>\n",
       "      <td>0.336930</td>\n",
       "      <td>1.553064</td>\n",
       "      <td>four</td>\n",
       "    </tr>\n",
       "    <tr>\n",
       "      <th>2022-01-06</th>\n",
       "      <td>-0.407872</td>\n",
       "      <td>-0.181777</td>\n",
       "      <td>0.838029</td>\n",
       "      <td>-1.804034</td>\n",
       "      <td>seven</td>\n",
       "    </tr>\n",
       "  </tbody>\n",
       "</table>\n",
       "</div>"
      ],
      "text/plain": [
       "                   A         B         C         D      E\n",
       "2022-01-01 -1.205100  3.082857 -1.650389  0.255684    one\n",
       "2022-01-02 -0.977994  0.770002  0.499095 -0.658070    one\n",
       "2022-01-03 -0.098357 -1.877524 -0.563702 -1.582558    two\n",
       "2022-01-04 -2.068831 -0.549822 -1.168545  0.501481  three\n",
       "2022-01-05 -1.030858 -0.697145  0.336930  1.553064   four\n",
       "2022-01-06 -0.407872 -0.181777  0.838029 -1.804034  seven"
      ]
     },
     "execution_count": 213,
     "metadata": {},
     "output_type": "execute_result"
    }
   ],
   "source": [
    "df"
   ]
  },
  {
   "cell_type": "code",
   "execution_count": 215,
   "id": "f93bfb1c",
   "metadata": {},
   "outputs": [
    {
     "data": {
      "text/html": [
       "<div>\n",
       "<style scoped>\n",
       "    .dataframe tbody tr th:only-of-type {\n",
       "        vertical-align: middle;\n",
       "    }\n",
       "\n",
       "    .dataframe tbody tr th {\n",
       "        vertical-align: top;\n",
       "    }\n",
       "\n",
       "    .dataframe thead th {\n",
       "        text-align: right;\n",
       "    }\n",
       "</style>\n",
       "<table border=\"1\" class=\"dataframe\">\n",
       "  <thead>\n",
       "    <tr style=\"text-align: right;\">\n",
       "      <th></th>\n",
       "      <th>A</th>\n",
       "      <th>B</th>\n",
       "      <th>C</th>\n",
       "      <th>D</th>\n",
       "    </tr>\n",
       "  </thead>\n",
       "  <tbody>\n",
       "    <tr>\n",
       "      <th>2022-01-01</th>\n",
       "      <td>-1.205100</td>\n",
       "      <td>3.082857</td>\n",
       "      <td>-1.650389</td>\n",
       "      <td>0.255684</td>\n",
       "    </tr>\n",
       "    <tr>\n",
       "      <th>2022-01-02</th>\n",
       "      <td>-0.977994</td>\n",
       "      <td>0.770002</td>\n",
       "      <td>0.499095</td>\n",
       "      <td>-0.658070</td>\n",
       "    </tr>\n",
       "    <tr>\n",
       "      <th>2022-01-03</th>\n",
       "      <td>-0.098357</td>\n",
       "      <td>-1.877524</td>\n",
       "      <td>-0.563702</td>\n",
       "      <td>-1.582558</td>\n",
       "    </tr>\n",
       "    <tr>\n",
       "      <th>2022-01-04</th>\n",
       "      <td>-2.068831</td>\n",
       "      <td>-0.549822</td>\n",
       "      <td>-1.168545</td>\n",
       "      <td>0.501481</td>\n",
       "    </tr>\n",
       "    <tr>\n",
       "      <th>2022-01-05</th>\n",
       "      <td>-1.030858</td>\n",
       "      <td>-0.697145</td>\n",
       "      <td>0.336930</td>\n",
       "      <td>1.553064</td>\n",
       "    </tr>\n",
       "    <tr>\n",
       "      <th>2022-01-06</th>\n",
       "      <td>-0.407872</td>\n",
       "      <td>-0.181777</td>\n",
       "      <td>0.838029</td>\n",
       "      <td>-1.804034</td>\n",
       "    </tr>\n",
       "  </tbody>\n",
       "</table>\n",
       "</div>"
      ],
      "text/plain": [
       "                   A         B         C         D\n",
       "2022-01-01 -1.205100  3.082857 -1.650389  0.255684\n",
       "2022-01-02 -0.977994  0.770002  0.499095 -0.658070\n",
       "2022-01-03 -0.098357 -1.877524 -0.563702 -1.582558\n",
       "2022-01-04 -2.068831 -0.549822 -1.168545  0.501481\n",
       "2022-01-05 -1.030858 -0.697145  0.336930  1.553064\n",
       "2022-01-06 -0.407872 -0.181777  0.838029 -1.804034"
      ]
     },
     "execution_count": 215,
     "metadata": {},
     "output_type": "execute_result"
    }
   ],
   "source": [
    "del df['E']\n",
    "df"
   ]
  },
  {
   "cell_type": "code",
   "execution_count": 216,
   "id": "1f2e3172",
   "metadata": {},
   "outputs": [
    {
     "data": {
      "text/html": [
       "<div>\n",
       "<style scoped>\n",
       "    .dataframe tbody tr th:only-of-type {\n",
       "        vertical-align: middle;\n",
       "    }\n",
       "\n",
       "    .dataframe tbody tr th {\n",
       "        vertical-align: top;\n",
       "    }\n",
       "\n",
       "    .dataframe thead th {\n",
       "        text-align: right;\n",
       "    }\n",
       "</style>\n",
       "<table border=\"1\" class=\"dataframe\">\n",
       "  <thead>\n",
       "    <tr style=\"text-align: right;\">\n",
       "      <th></th>\n",
       "      <th>A</th>\n",
       "      <th>B</th>\n",
       "      <th>C</th>\n",
       "    </tr>\n",
       "  </thead>\n",
       "  <tbody>\n",
       "    <tr>\n",
       "      <th>2022-01-01</th>\n",
       "      <td>-1.205100</td>\n",
       "      <td>3.082857</td>\n",
       "      <td>-1.650389</td>\n",
       "    </tr>\n",
       "    <tr>\n",
       "      <th>2022-01-02</th>\n",
       "      <td>-0.977994</td>\n",
       "      <td>0.770002</td>\n",
       "      <td>0.499095</td>\n",
       "    </tr>\n",
       "    <tr>\n",
       "      <th>2022-01-03</th>\n",
       "      <td>-0.098357</td>\n",
       "      <td>-1.877524</td>\n",
       "      <td>-0.563702</td>\n",
       "    </tr>\n",
       "    <tr>\n",
       "      <th>2022-01-04</th>\n",
       "      <td>-2.068831</td>\n",
       "      <td>-0.549822</td>\n",
       "      <td>-1.168545</td>\n",
       "    </tr>\n",
       "    <tr>\n",
       "      <th>2022-01-05</th>\n",
       "      <td>-1.030858</td>\n",
       "      <td>-0.697145</td>\n",
       "      <td>0.336930</td>\n",
       "    </tr>\n",
       "    <tr>\n",
       "      <th>2022-01-06</th>\n",
       "      <td>-0.407872</td>\n",
       "      <td>-0.181777</td>\n",
       "      <td>0.838029</td>\n",
       "    </tr>\n",
       "  </tbody>\n",
       "</table>\n",
       "</div>"
      ],
      "text/plain": [
       "                   A         B         C\n",
       "2022-01-01 -1.205100  3.082857 -1.650389\n",
       "2022-01-02 -0.977994  0.770002  0.499095\n",
       "2022-01-03 -0.098357 -1.877524 -0.563702\n",
       "2022-01-04 -2.068831 -0.549822 -1.168545\n",
       "2022-01-05 -1.030858 -0.697145  0.336930\n",
       "2022-01-06 -0.407872 -0.181777  0.838029"
      ]
     },
     "execution_count": 216,
     "metadata": {},
     "output_type": "execute_result"
    }
   ],
   "source": [
    "# axis = 0 가로\n",
    "# axis = 1 세로\n",
    "\n",
    "df.drop(['D'], axis=1)"
   ]
  },
  {
   "cell_type": "code",
   "execution_count": 226,
   "id": "6a6b418e",
   "metadata": {},
   "outputs": [
    {
     "ename": "KeyError",
     "evalue": "\"['20220101'] not found in axis\"",
     "output_type": "error",
     "traceback": [
      "\u001b[1;31m---------------------------------------------------------------------------\u001b[0m",
      "\u001b[1;31mKeyError\u001b[0m                                  Traceback (most recent call last)",
      "\u001b[1;32m<ipython-input-226-009eed826185>\u001b[0m in \u001b[0;36m<module>\u001b[1;34m\u001b[0m\n\u001b[0;32m      1\u001b[0m \u001b[1;31m# axis = 0이 기본\u001b[0m\u001b[1;33m\u001b[0m\u001b[1;33m\u001b[0m\u001b[1;33m\u001b[0m\u001b[0m\n\u001b[1;32m----> 2\u001b[1;33m \u001b[0mdf\u001b[0m\u001b[1;33m.\u001b[0m\u001b[0mdrop\u001b[0m\u001b[1;33m(\u001b[0m\u001b[1;33m[\u001b[0m\u001b[1;34m'20220101'\u001b[0m\u001b[1;33m]\u001b[0m\u001b[1;33m)\u001b[0m\u001b[1;33m\u001b[0m\u001b[1;33m\u001b[0m\u001b[0m\n\u001b[0m",
      "\u001b[1;32m~\\Anaconda3\\lib\\site-packages\\pandas\\core\\frame.py\u001b[0m in \u001b[0;36mdrop\u001b[1;34m(self, labels, axis, index, columns, level, inplace, errors)\u001b[0m\n\u001b[0;32m   4306\u001b[0m                 \u001b[0mweight\u001b[0m  \u001b[1;36m1.0\u001b[0m     \u001b[1;36m0.8\u001b[0m\u001b[1;33m\u001b[0m\u001b[1;33m\u001b[0m\u001b[0m\n\u001b[0;32m   4307\u001b[0m         \"\"\"\n\u001b[1;32m-> 4308\u001b[1;33m         return super().drop(\n\u001b[0m\u001b[0;32m   4309\u001b[0m             \u001b[0mlabels\u001b[0m\u001b[1;33m=\u001b[0m\u001b[0mlabels\u001b[0m\u001b[1;33m,\u001b[0m\u001b[1;33m\u001b[0m\u001b[1;33m\u001b[0m\u001b[0m\n\u001b[0;32m   4310\u001b[0m             \u001b[0maxis\u001b[0m\u001b[1;33m=\u001b[0m\u001b[0maxis\u001b[0m\u001b[1;33m,\u001b[0m\u001b[1;33m\u001b[0m\u001b[1;33m\u001b[0m\u001b[0m\n",
      "\u001b[1;32m~\\Anaconda3\\lib\\site-packages\\pandas\\core\\generic.py\u001b[0m in \u001b[0;36mdrop\u001b[1;34m(self, labels, axis, index, columns, level, inplace, errors)\u001b[0m\n\u001b[0;32m   4151\u001b[0m         \u001b[1;32mfor\u001b[0m \u001b[0maxis\u001b[0m\u001b[1;33m,\u001b[0m \u001b[0mlabels\u001b[0m \u001b[1;32min\u001b[0m \u001b[0maxes\u001b[0m\u001b[1;33m.\u001b[0m\u001b[0mitems\u001b[0m\u001b[1;33m(\u001b[0m\u001b[1;33m)\u001b[0m\u001b[1;33m:\u001b[0m\u001b[1;33m\u001b[0m\u001b[1;33m\u001b[0m\u001b[0m\n\u001b[0;32m   4152\u001b[0m             \u001b[1;32mif\u001b[0m \u001b[0mlabels\u001b[0m \u001b[1;32mis\u001b[0m \u001b[1;32mnot\u001b[0m \u001b[1;32mNone\u001b[0m\u001b[1;33m:\u001b[0m\u001b[1;33m\u001b[0m\u001b[1;33m\u001b[0m\u001b[0m\n\u001b[1;32m-> 4153\u001b[1;33m                 \u001b[0mobj\u001b[0m \u001b[1;33m=\u001b[0m \u001b[0mobj\u001b[0m\u001b[1;33m.\u001b[0m\u001b[0m_drop_axis\u001b[0m\u001b[1;33m(\u001b[0m\u001b[0mlabels\u001b[0m\u001b[1;33m,\u001b[0m \u001b[0maxis\u001b[0m\u001b[1;33m,\u001b[0m \u001b[0mlevel\u001b[0m\u001b[1;33m=\u001b[0m\u001b[0mlevel\u001b[0m\u001b[1;33m,\u001b[0m \u001b[0merrors\u001b[0m\u001b[1;33m=\u001b[0m\u001b[0merrors\u001b[0m\u001b[1;33m)\u001b[0m\u001b[1;33m\u001b[0m\u001b[1;33m\u001b[0m\u001b[0m\n\u001b[0m\u001b[0;32m   4154\u001b[0m \u001b[1;33m\u001b[0m\u001b[0m\n\u001b[0;32m   4155\u001b[0m         \u001b[1;32mif\u001b[0m \u001b[0minplace\u001b[0m\u001b[1;33m:\u001b[0m\u001b[1;33m\u001b[0m\u001b[1;33m\u001b[0m\u001b[0m\n",
      "\u001b[1;32m~\\Anaconda3\\lib\\site-packages\\pandas\\core\\generic.py\u001b[0m in \u001b[0;36m_drop_axis\u001b[1;34m(self, labels, axis, level, errors)\u001b[0m\n\u001b[0;32m   4186\u001b[0m                 \u001b[0mnew_axis\u001b[0m \u001b[1;33m=\u001b[0m \u001b[0maxis\u001b[0m\u001b[1;33m.\u001b[0m\u001b[0mdrop\u001b[0m\u001b[1;33m(\u001b[0m\u001b[0mlabels\u001b[0m\u001b[1;33m,\u001b[0m \u001b[0mlevel\u001b[0m\u001b[1;33m=\u001b[0m\u001b[0mlevel\u001b[0m\u001b[1;33m,\u001b[0m \u001b[0merrors\u001b[0m\u001b[1;33m=\u001b[0m\u001b[0merrors\u001b[0m\u001b[1;33m)\u001b[0m\u001b[1;33m\u001b[0m\u001b[1;33m\u001b[0m\u001b[0m\n\u001b[0;32m   4187\u001b[0m             \u001b[1;32melse\u001b[0m\u001b[1;33m:\u001b[0m\u001b[1;33m\u001b[0m\u001b[1;33m\u001b[0m\u001b[0m\n\u001b[1;32m-> 4188\u001b[1;33m                 \u001b[0mnew_axis\u001b[0m \u001b[1;33m=\u001b[0m \u001b[0maxis\u001b[0m\u001b[1;33m.\u001b[0m\u001b[0mdrop\u001b[0m\u001b[1;33m(\u001b[0m\u001b[0mlabels\u001b[0m\u001b[1;33m,\u001b[0m \u001b[0merrors\u001b[0m\u001b[1;33m=\u001b[0m\u001b[0merrors\u001b[0m\u001b[1;33m)\u001b[0m\u001b[1;33m\u001b[0m\u001b[1;33m\u001b[0m\u001b[0m\n\u001b[0m\u001b[0;32m   4189\u001b[0m             \u001b[0mresult\u001b[0m \u001b[1;33m=\u001b[0m \u001b[0mself\u001b[0m\u001b[1;33m.\u001b[0m\u001b[0mreindex\u001b[0m\u001b[1;33m(\u001b[0m\u001b[1;33m**\u001b[0m\u001b[1;33m{\u001b[0m\u001b[0maxis_name\u001b[0m\u001b[1;33m:\u001b[0m \u001b[0mnew_axis\u001b[0m\u001b[1;33m}\u001b[0m\u001b[1;33m)\u001b[0m\u001b[1;33m\u001b[0m\u001b[1;33m\u001b[0m\u001b[0m\n\u001b[0;32m   4190\u001b[0m \u001b[1;33m\u001b[0m\u001b[0m\n",
      "\u001b[1;32m~\\Anaconda3\\lib\\site-packages\\pandas\\core\\indexes\\base.py\u001b[0m in \u001b[0;36mdrop\u001b[1;34m(self, labels, errors)\u001b[0m\n\u001b[0;32m   5589\u001b[0m         \u001b[1;32mif\u001b[0m \u001b[0mmask\u001b[0m\u001b[1;33m.\u001b[0m\u001b[0many\u001b[0m\u001b[1;33m(\u001b[0m\u001b[1;33m)\u001b[0m\u001b[1;33m:\u001b[0m\u001b[1;33m\u001b[0m\u001b[1;33m\u001b[0m\u001b[0m\n\u001b[0;32m   5590\u001b[0m             \u001b[1;32mif\u001b[0m \u001b[0merrors\u001b[0m \u001b[1;33m!=\u001b[0m \u001b[1;34m\"ignore\"\u001b[0m\u001b[1;33m:\u001b[0m\u001b[1;33m\u001b[0m\u001b[1;33m\u001b[0m\u001b[0m\n\u001b[1;32m-> 5591\u001b[1;33m                 \u001b[1;32mraise\u001b[0m \u001b[0mKeyError\u001b[0m\u001b[1;33m(\u001b[0m\u001b[1;34mf\"{labels[mask]} not found in axis\"\u001b[0m\u001b[1;33m)\u001b[0m\u001b[1;33m\u001b[0m\u001b[1;33m\u001b[0m\u001b[0m\n\u001b[0m\u001b[0;32m   5592\u001b[0m             \u001b[0mindexer\u001b[0m \u001b[1;33m=\u001b[0m \u001b[0mindexer\u001b[0m\u001b[1;33m[\u001b[0m\u001b[1;33m~\u001b[0m\u001b[0mmask\u001b[0m\u001b[1;33m]\u001b[0m\u001b[1;33m\u001b[0m\u001b[1;33m\u001b[0m\u001b[0m\n\u001b[0;32m   5593\u001b[0m         \u001b[1;32mreturn\u001b[0m \u001b[0mself\u001b[0m\u001b[1;33m.\u001b[0m\u001b[0mdelete\u001b[0m\u001b[1;33m(\u001b[0m\u001b[0mindexer\u001b[0m\u001b[1;33m)\u001b[0m\u001b[1;33m\u001b[0m\u001b[1;33m\u001b[0m\u001b[0m\n",
      "\u001b[1;31mKeyError\u001b[0m: \"['20220101'] not found in axis\""
     ]
    }
   ],
   "source": [
    "# axis = 0이 기본\n",
    "df.drop(['20220101'])"
   ]
  },
  {
   "cell_type": "code",
   "execution_count": null,
   "id": "0aaffeb4",
   "metadata": {},
   "outputs": [],
   "source": []
  }
 ],
 "metadata": {
  "kernelspec": {
   "display_name": "Python 3",
   "language": "python",
   "name": "python3"
  },
  "language_info": {
   "codemirror_mode": {
    "name": "ipython",
    "version": 3
   },
   "file_extension": ".py",
   "mimetype": "text/x-python",
   "name": "python",
   "nbconvert_exporter": "python",
   "pygments_lexer": "ipython3",
   "version": "3.8.8"
  }
 },
 "nbformat": 4,
 "nbformat_minor": 5
}
